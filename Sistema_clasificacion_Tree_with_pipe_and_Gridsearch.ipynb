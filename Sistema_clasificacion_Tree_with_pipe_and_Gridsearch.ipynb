{
  "nbformat": 4,
  "nbformat_minor": 0,
  "metadata": {
    "colab": {
      "provenance": [],
      "collapsed_sections": [],
      "include_colab_link": true
    },
    "kernelspec": {
      "name": "python3",
      "display_name": "Python 3"
    },
    "language_info": {
      "name": "python"
    }
  },
  "cells": [
    {
      "cell_type": "markdown",
      "metadata": {
        "id": "view-in-github",
        "colab_type": "text"
      },
      "source": [
        "<a href=\"https://colab.research.google.com/github/Gonza2981/Sistema-de-clasificacion-TREE-con-pipeline-y-Gridsearch/blob/main/Sistema_clasificacion_Tree_with_pipe_and_Gridsearch.ipynb\" target=\"_parent\"><img src=\"https://colab.research.google.com/assets/colab-badge.svg\" alt=\"Open In Colab\"/></a>"
      ]
    },
    {
      "cell_type": "markdown",
      "source": [
        "# Objetivo del trabajo\n",
        "### En este proyecto, trabajaremos con un dataset que contiene información sobre personas. La idea es predecir si la persona tiene o no un salario anual mayor a 50K dólares.\n"
      ],
      "metadata": {
        "id": "KiRM7exJJyaQ"
      }
    },
    {
      "cell_type": "markdown",
      "source": [
        "Procedemos a importar las librerias que utilizaremos para realizar el analisis:"
      ],
      "metadata": {
        "id": "XKuknRZWFU1E"
      }
    },
    {
      "cell_type": "code",
      "execution_count": 1,
      "metadata": {
        "id": "rFai1W8uJkle"
      },
      "outputs": [],
      "source": [
        "import pandas as pd\n",
        "import seaborn as sns\n",
        "import matplotlib.pylab as plt\n",
        "import numpy as np"
      ]
    },
    {
      "cell_type": "markdown",
      "source": [
        "Importamos el df del CSV entregado.\n",
        "Para esto montamos el google Drive y luego nuestra unidad de Drive."
      ],
      "metadata": {
        "id": "4fv9ID5cLIkG"
      }
    },
    {
      "cell_type": "code",
      "source": [
        "from google.colab import drive\n",
        "drive.mount('/content/drive')"
      ],
      "metadata": {
        "colab": {
          "base_uri": "https://localhost:8080/"
        },
        "id": "ykW275Z3LPxu",
        "outputId": "713c3eb4-1908-4e77-a397-b7d3b302b131"
      },
      "execution_count": 2,
      "outputs": [
        {
          "output_type": "stream",
          "name": "stdout",
          "text": [
            "Mounted at /content/drive\n"
          ]
        }
      ]
    },
    {
      "cell_type": "code",
      "source": [
        "df = pd.read_csv('/content/drive/MyDrive/Curso Data Science - Icaro/Unidad 2/Entrega Sprint 1/train.csv')"
      ],
      "metadata": {
        "id": "aOM3ceCoL57O"
      },
      "execution_count": 3,
      "outputs": []
    },
    {
      "cell_type": "markdown",
      "source": [
        "Observamos los datos del DataFrame."
      ],
      "metadata": {
        "id": "fUuLwXIwMOXd"
      }
    },
    {
      "cell_type": "code",
      "source": [
        "df.head()"
      ],
      "metadata": {
        "colab": {
          "base_uri": "https://localhost:8080/",
          "height": 206
        },
        "id": "vl7C_BsDMLBq",
        "outputId": "891760f8-52ed-40ac-ba28-1e60e2d233b7"
      },
      "execution_count": 4,
      "outputs": [
        {
          "output_type": "execute_result",
          "data": {
            "text/plain": [
              "   index  age  workclass  education  education.num      marital.status  \\\n",
              "0  24466   30  Local-gov    HS-grad              9            Divorced   \n",
              "1    985   37    Private  Bachelors             13  Married-civ-spouse   \n",
              "2  30250   41    Private    HS-grad              9  Married-civ-spouse   \n",
              "3   7107   45    Private  Bachelors             13  Married-civ-spouse   \n",
              "4  27656   28    Private    HS-grad              9       Never-married   \n",
              "\n",
              "        occupation   relationship   race     sex  capital.gain  capital.loss  \\\n",
              "0  Protective-serv      Own-child  White  Female             0             0   \n",
              "1  Exec-managerial           Wife  White  Female             0          1848   \n",
              "2     Craft-repair        Husband  White    Male             0             0   \n",
              "3   Prof-specialty        Husband  White    Male             0             0   \n",
              "4  Exec-managerial  Not-in-family  White  Female             0             0   \n",
              "\n",
              "   hours.per.week native.country income     ID  \n",
              "0              32  United-States  <=50K  24451  \n",
              "1              40  United-States   >50K    985  \n",
              "2              60  United-States   >50K  30229  \n",
              "3              60  United-States   >50K   7107  \n",
              "4              40  United-States  <=50K  27639  "
            ],
            "text/html": [
              "\n",
              "  <div id=\"df-f7d8bf50-9113-4531-ab5f-d034497efa5a\">\n",
              "    <div class=\"colab-df-container\">\n",
              "      <div>\n",
              "<style scoped>\n",
              "    .dataframe tbody tr th:only-of-type {\n",
              "        vertical-align: middle;\n",
              "    }\n",
              "\n",
              "    .dataframe tbody tr th {\n",
              "        vertical-align: top;\n",
              "    }\n",
              "\n",
              "    .dataframe thead th {\n",
              "        text-align: right;\n",
              "    }\n",
              "</style>\n",
              "<table border=\"1\" class=\"dataframe\">\n",
              "  <thead>\n",
              "    <tr style=\"text-align: right;\">\n",
              "      <th></th>\n",
              "      <th>index</th>\n",
              "      <th>age</th>\n",
              "      <th>workclass</th>\n",
              "      <th>education</th>\n",
              "      <th>education.num</th>\n",
              "      <th>marital.status</th>\n",
              "      <th>occupation</th>\n",
              "      <th>relationship</th>\n",
              "      <th>race</th>\n",
              "      <th>sex</th>\n",
              "      <th>capital.gain</th>\n",
              "      <th>capital.loss</th>\n",
              "      <th>hours.per.week</th>\n",
              "      <th>native.country</th>\n",
              "      <th>income</th>\n",
              "      <th>ID</th>\n",
              "    </tr>\n",
              "  </thead>\n",
              "  <tbody>\n",
              "    <tr>\n",
              "      <th>0</th>\n",
              "      <td>24466</td>\n",
              "      <td>30</td>\n",
              "      <td>Local-gov</td>\n",
              "      <td>HS-grad</td>\n",
              "      <td>9</td>\n",
              "      <td>Divorced</td>\n",
              "      <td>Protective-serv</td>\n",
              "      <td>Own-child</td>\n",
              "      <td>White</td>\n",
              "      <td>Female</td>\n",
              "      <td>0</td>\n",
              "      <td>0</td>\n",
              "      <td>32</td>\n",
              "      <td>United-States</td>\n",
              "      <td>&lt;=50K</td>\n",
              "      <td>24451</td>\n",
              "    </tr>\n",
              "    <tr>\n",
              "      <th>1</th>\n",
              "      <td>985</td>\n",
              "      <td>37</td>\n",
              "      <td>Private</td>\n",
              "      <td>Bachelors</td>\n",
              "      <td>13</td>\n",
              "      <td>Married-civ-spouse</td>\n",
              "      <td>Exec-managerial</td>\n",
              "      <td>Wife</td>\n",
              "      <td>White</td>\n",
              "      <td>Female</td>\n",
              "      <td>0</td>\n",
              "      <td>1848</td>\n",
              "      <td>40</td>\n",
              "      <td>United-States</td>\n",
              "      <td>&gt;50K</td>\n",
              "      <td>985</td>\n",
              "    </tr>\n",
              "    <tr>\n",
              "      <th>2</th>\n",
              "      <td>30250</td>\n",
              "      <td>41</td>\n",
              "      <td>Private</td>\n",
              "      <td>HS-grad</td>\n",
              "      <td>9</td>\n",
              "      <td>Married-civ-spouse</td>\n",
              "      <td>Craft-repair</td>\n",
              "      <td>Husband</td>\n",
              "      <td>White</td>\n",
              "      <td>Male</td>\n",
              "      <td>0</td>\n",
              "      <td>0</td>\n",
              "      <td>60</td>\n",
              "      <td>United-States</td>\n",
              "      <td>&gt;50K</td>\n",
              "      <td>30229</td>\n",
              "    </tr>\n",
              "    <tr>\n",
              "      <th>3</th>\n",
              "      <td>7107</td>\n",
              "      <td>45</td>\n",
              "      <td>Private</td>\n",
              "      <td>Bachelors</td>\n",
              "      <td>13</td>\n",
              "      <td>Married-civ-spouse</td>\n",
              "      <td>Prof-specialty</td>\n",
              "      <td>Husband</td>\n",
              "      <td>White</td>\n",
              "      <td>Male</td>\n",
              "      <td>0</td>\n",
              "      <td>0</td>\n",
              "      <td>60</td>\n",
              "      <td>United-States</td>\n",
              "      <td>&gt;50K</td>\n",
              "      <td>7107</td>\n",
              "    </tr>\n",
              "    <tr>\n",
              "      <th>4</th>\n",
              "      <td>27656</td>\n",
              "      <td>28</td>\n",
              "      <td>Private</td>\n",
              "      <td>HS-grad</td>\n",
              "      <td>9</td>\n",
              "      <td>Never-married</td>\n",
              "      <td>Exec-managerial</td>\n",
              "      <td>Not-in-family</td>\n",
              "      <td>White</td>\n",
              "      <td>Female</td>\n",
              "      <td>0</td>\n",
              "      <td>0</td>\n",
              "      <td>40</td>\n",
              "      <td>United-States</td>\n",
              "      <td>&lt;=50K</td>\n",
              "      <td>27639</td>\n",
              "    </tr>\n",
              "  </tbody>\n",
              "</table>\n",
              "</div>\n",
              "      <button class=\"colab-df-convert\" onclick=\"convertToInteractive('df-f7d8bf50-9113-4531-ab5f-d034497efa5a')\"\n",
              "              title=\"Convert this dataframe to an interactive table.\"\n",
              "              style=\"display:none;\">\n",
              "        \n",
              "  <svg xmlns=\"http://www.w3.org/2000/svg\" height=\"24px\"viewBox=\"0 0 24 24\"\n",
              "       width=\"24px\">\n",
              "    <path d=\"M0 0h24v24H0V0z\" fill=\"none\"/>\n",
              "    <path d=\"M18.56 5.44l.94 2.06.94-2.06 2.06-.94-2.06-.94-.94-2.06-.94 2.06-2.06.94zm-11 1L8.5 8.5l.94-2.06 2.06-.94-2.06-.94L8.5 2.5l-.94 2.06-2.06.94zm10 10l.94 2.06.94-2.06 2.06-.94-2.06-.94-.94-2.06-.94 2.06-2.06.94z\"/><path d=\"M17.41 7.96l-1.37-1.37c-.4-.4-.92-.59-1.43-.59-.52 0-1.04.2-1.43.59L10.3 9.45l-7.72 7.72c-.78.78-.78 2.05 0 2.83L4 21.41c.39.39.9.59 1.41.59.51 0 1.02-.2 1.41-.59l7.78-7.78 2.81-2.81c.8-.78.8-2.07 0-2.86zM5.41 20L4 18.59l7.72-7.72 1.47 1.35L5.41 20z\"/>\n",
              "  </svg>\n",
              "      </button>\n",
              "      \n",
              "  <style>\n",
              "    .colab-df-container {\n",
              "      display:flex;\n",
              "      flex-wrap:wrap;\n",
              "      gap: 12px;\n",
              "    }\n",
              "\n",
              "    .colab-df-convert {\n",
              "      background-color: #E8F0FE;\n",
              "      border: none;\n",
              "      border-radius: 50%;\n",
              "      cursor: pointer;\n",
              "      display: none;\n",
              "      fill: #1967D2;\n",
              "      height: 32px;\n",
              "      padding: 0 0 0 0;\n",
              "      width: 32px;\n",
              "    }\n",
              "\n",
              "    .colab-df-convert:hover {\n",
              "      background-color: #E2EBFA;\n",
              "      box-shadow: 0px 1px 2px rgba(60, 64, 67, 0.3), 0px 1px 3px 1px rgba(60, 64, 67, 0.15);\n",
              "      fill: #174EA6;\n",
              "    }\n",
              "\n",
              "    [theme=dark] .colab-df-convert {\n",
              "      background-color: #3B4455;\n",
              "      fill: #D2E3FC;\n",
              "    }\n",
              "\n",
              "    [theme=dark] .colab-df-convert:hover {\n",
              "      background-color: #434B5C;\n",
              "      box-shadow: 0px 1px 3px 1px rgba(0, 0, 0, 0.15);\n",
              "      filter: drop-shadow(0px 1px 2px rgba(0, 0, 0, 0.3));\n",
              "      fill: #FFFFFF;\n",
              "    }\n",
              "  </style>\n",
              "\n",
              "      <script>\n",
              "        const buttonEl =\n",
              "          document.querySelector('#df-f7d8bf50-9113-4531-ab5f-d034497efa5a button.colab-df-convert');\n",
              "        buttonEl.style.display =\n",
              "          google.colab.kernel.accessAllowed ? 'block' : 'none';\n",
              "\n",
              "        async function convertToInteractive(key) {\n",
              "          const element = document.querySelector('#df-f7d8bf50-9113-4531-ab5f-d034497efa5a');\n",
              "          const dataTable =\n",
              "            await google.colab.kernel.invokeFunction('convertToInteractive',\n",
              "                                                     [key], {});\n",
              "          if (!dataTable) return;\n",
              "\n",
              "          const docLinkHtml = 'Like what you see? Visit the ' +\n",
              "            '<a target=\"_blank\" href=https://colab.research.google.com/notebooks/data_table.ipynb>data table notebook</a>'\n",
              "            + ' to learn more about interactive tables.';\n",
              "          element.innerHTML = '';\n",
              "          dataTable['output_type'] = 'display_data';\n",
              "          await google.colab.output.renderOutput(dataTable, element);\n",
              "          const docLink = document.createElement('div');\n",
              "          docLink.innerHTML = docLinkHtml;\n",
              "          element.appendChild(docLink);\n",
              "        }\n",
              "      </script>\n",
              "    </div>\n",
              "  </div>\n",
              "  "
            ]
          },
          "metadata": {},
          "execution_count": 4
        }
      ]
    },
    {
      "cell_type": "markdown",
      "source": [
        "Primero observemos cuantas filas y columnas tiene nuestro DF:"
      ],
      "metadata": {
        "id": "sD2j-Hb6OFAp"
      }
    },
    {
      "cell_type": "code",
      "source": [
        "  df.shape"
      ],
      "metadata": {
        "colab": {
          "base_uri": "https://localhost:8080/"
        },
        "id": "9HwkXYpsMWro",
        "outputId": "b4d89164-58ee-488d-928d-82aca3067956"
      },
      "execution_count": 5,
      "outputs": [
        {
          "output_type": "execute_result",
          "data": {
            "text/plain": [
              "(27656, 16)"
            ]
          },
          "metadata": {},
          "execution_count": 5
        }
      ]
    },
    {
      "cell_type": "markdown",
      "source": [
        "Observamos que el dataframe que vamos a analizar contiene 27656 datos. Los features que intervienen en el mismo son:\n",
        "\n",
        "1. Index / ID (identificador) - Variables numericas.\n",
        "2. Age (Edad) - Variable numerica.\n",
        "3. Workclass (Tipo de trabajo) - Variable categorica.\n",
        "4. Education (Nivel de estudios) - Variable categorica.\n",
        "5. education.num (Numero relacionado a Nivel del educacion) - Variable numerica.\n",
        "6. marital.status (Estado civil) - Variable categorica.\n",
        "7. ocupation (Trabajo u oficio) - Variable categorica.\n",
        "8. relationship (relacion) - Variable categorica.\n",
        "9. race (Raza) - Variable categorica.\n",
        "10. sex (Sexo) - Variable categorica\n",
        "11. capital.gain (capital ganado) - Varible numerica\n",
        "12. capital.loss (capital perdido) - Variable numerica\n",
        "13. hours.per.week (horas de trabajo por semana) - Variable numerica.\n",
        "14. native.country (Nacionalidad) - Variable categorica\n",
        "15. Income (ingreso) - **variable a predecir**"
      ],
      "metadata": {
        "id": "xouGEOLqFjeK"
      }
    },
    {
      "cell_type": "markdown",
      "source": [
        "Vemos que la variable a predecir nos indica que se trata de un **problema de clasificacion**, ya que la variable que queremos predecir en base a las diferentes caracteristicas que nos provee el dataframe tiene 2 posibles valores (gana igual o mas de 50k dolares o no gana mas de 50k dolares)"
      ],
      "metadata": {
        "id": "AAvBnXT-IRPA"
      }
    },
    {
      "cell_type": "markdown",
      "source": [
        "Observemos las variables numéricas:"
      ],
      "metadata": {
        "id": "8D7M29RoOaVQ"
      }
    },
    {
      "cell_type": "code",
      "source": [
        "df.describe()"
      ],
      "metadata": {
        "colab": {
          "base_uri": "https://localhost:8080/",
          "height": 300
        },
        "id": "hHOJ38Z4OUVv",
        "outputId": "4e48096b-61e0-4bf8-d613-eab8f0f9a650"
      },
      "execution_count": 6,
      "outputs": [
        {
          "output_type": "execute_result",
          "data": {
            "text/plain": [
              "              index           age  education.num  capital.gain  capital.loss  \\\n",
              "count  27656.000000  27656.000000   27656.000000  27656.000000  27656.000000   \n",
              "mean   16274.894851     38.610356      10.093506   1099.991503     88.284387   \n",
              "std     9410.041750     13.659928       2.566083   7487.323462    405.821328   \n",
              "min        0.000000     17.000000       1.000000      0.000000      0.000000   \n",
              "25%     8104.750000     28.000000       9.000000      0.000000      0.000000   \n",
              "50%    16296.000000     37.000000      10.000000      0.000000      0.000000   \n",
              "75%    24431.250000     48.000000      12.000000      0.000000      0.000000   \n",
              "max    32559.000000     90.000000      16.000000  99999.000000   4356.000000   \n",
              "\n",
              "       hours.per.week            ID  \n",
              "count    27656.000000  27656.000000  \n",
              "mean        40.446666  16267.565736  \n",
              "std         12.369212   9403.092602  \n",
              "min          1.000000      0.000000  \n",
              "25%         40.000000   8104.750000  \n",
              "50%         40.000000  16291.000000  \n",
              "75%         45.000000  24416.250000  \n",
              "max         99.000000  32535.000000  "
            ],
            "text/html": [
              "\n",
              "  <div id=\"df-0a87b1fe-1333-4c64-9ac8-d8a8cdc5df0e\">\n",
              "    <div class=\"colab-df-container\">\n",
              "      <div>\n",
              "<style scoped>\n",
              "    .dataframe tbody tr th:only-of-type {\n",
              "        vertical-align: middle;\n",
              "    }\n",
              "\n",
              "    .dataframe tbody tr th {\n",
              "        vertical-align: top;\n",
              "    }\n",
              "\n",
              "    .dataframe thead th {\n",
              "        text-align: right;\n",
              "    }\n",
              "</style>\n",
              "<table border=\"1\" class=\"dataframe\">\n",
              "  <thead>\n",
              "    <tr style=\"text-align: right;\">\n",
              "      <th></th>\n",
              "      <th>index</th>\n",
              "      <th>age</th>\n",
              "      <th>education.num</th>\n",
              "      <th>capital.gain</th>\n",
              "      <th>capital.loss</th>\n",
              "      <th>hours.per.week</th>\n",
              "      <th>ID</th>\n",
              "    </tr>\n",
              "  </thead>\n",
              "  <tbody>\n",
              "    <tr>\n",
              "      <th>count</th>\n",
              "      <td>27656.000000</td>\n",
              "      <td>27656.000000</td>\n",
              "      <td>27656.000000</td>\n",
              "      <td>27656.000000</td>\n",
              "      <td>27656.000000</td>\n",
              "      <td>27656.000000</td>\n",
              "      <td>27656.000000</td>\n",
              "    </tr>\n",
              "    <tr>\n",
              "      <th>mean</th>\n",
              "      <td>16274.894851</td>\n",
              "      <td>38.610356</td>\n",
              "      <td>10.093506</td>\n",
              "      <td>1099.991503</td>\n",
              "      <td>88.284387</td>\n",
              "      <td>40.446666</td>\n",
              "      <td>16267.565736</td>\n",
              "    </tr>\n",
              "    <tr>\n",
              "      <th>std</th>\n",
              "      <td>9410.041750</td>\n",
              "      <td>13.659928</td>\n",
              "      <td>2.566083</td>\n",
              "      <td>7487.323462</td>\n",
              "      <td>405.821328</td>\n",
              "      <td>12.369212</td>\n",
              "      <td>9403.092602</td>\n",
              "    </tr>\n",
              "    <tr>\n",
              "      <th>min</th>\n",
              "      <td>0.000000</td>\n",
              "      <td>17.000000</td>\n",
              "      <td>1.000000</td>\n",
              "      <td>0.000000</td>\n",
              "      <td>0.000000</td>\n",
              "      <td>1.000000</td>\n",
              "      <td>0.000000</td>\n",
              "    </tr>\n",
              "    <tr>\n",
              "      <th>25%</th>\n",
              "      <td>8104.750000</td>\n",
              "      <td>28.000000</td>\n",
              "      <td>9.000000</td>\n",
              "      <td>0.000000</td>\n",
              "      <td>0.000000</td>\n",
              "      <td>40.000000</td>\n",
              "      <td>8104.750000</td>\n",
              "    </tr>\n",
              "    <tr>\n",
              "      <th>50%</th>\n",
              "      <td>16296.000000</td>\n",
              "      <td>37.000000</td>\n",
              "      <td>10.000000</td>\n",
              "      <td>0.000000</td>\n",
              "      <td>0.000000</td>\n",
              "      <td>40.000000</td>\n",
              "      <td>16291.000000</td>\n",
              "    </tr>\n",
              "    <tr>\n",
              "      <th>75%</th>\n",
              "      <td>24431.250000</td>\n",
              "      <td>48.000000</td>\n",
              "      <td>12.000000</td>\n",
              "      <td>0.000000</td>\n",
              "      <td>0.000000</td>\n",
              "      <td>45.000000</td>\n",
              "      <td>24416.250000</td>\n",
              "    </tr>\n",
              "    <tr>\n",
              "      <th>max</th>\n",
              "      <td>32559.000000</td>\n",
              "      <td>90.000000</td>\n",
              "      <td>16.000000</td>\n",
              "      <td>99999.000000</td>\n",
              "      <td>4356.000000</td>\n",
              "      <td>99.000000</td>\n",
              "      <td>32535.000000</td>\n",
              "    </tr>\n",
              "  </tbody>\n",
              "</table>\n",
              "</div>\n",
              "      <button class=\"colab-df-convert\" onclick=\"convertToInteractive('df-0a87b1fe-1333-4c64-9ac8-d8a8cdc5df0e')\"\n",
              "              title=\"Convert this dataframe to an interactive table.\"\n",
              "              style=\"display:none;\">\n",
              "        \n",
              "  <svg xmlns=\"http://www.w3.org/2000/svg\" height=\"24px\"viewBox=\"0 0 24 24\"\n",
              "       width=\"24px\">\n",
              "    <path d=\"M0 0h24v24H0V0z\" fill=\"none\"/>\n",
              "    <path d=\"M18.56 5.44l.94 2.06.94-2.06 2.06-.94-2.06-.94-.94-2.06-.94 2.06-2.06.94zm-11 1L8.5 8.5l.94-2.06 2.06-.94-2.06-.94L8.5 2.5l-.94 2.06-2.06.94zm10 10l.94 2.06.94-2.06 2.06-.94-2.06-.94-.94-2.06-.94 2.06-2.06.94z\"/><path d=\"M17.41 7.96l-1.37-1.37c-.4-.4-.92-.59-1.43-.59-.52 0-1.04.2-1.43.59L10.3 9.45l-7.72 7.72c-.78.78-.78 2.05 0 2.83L4 21.41c.39.39.9.59 1.41.59.51 0 1.02-.2 1.41-.59l7.78-7.78 2.81-2.81c.8-.78.8-2.07 0-2.86zM5.41 20L4 18.59l7.72-7.72 1.47 1.35L5.41 20z\"/>\n",
              "  </svg>\n",
              "      </button>\n",
              "      \n",
              "  <style>\n",
              "    .colab-df-container {\n",
              "      display:flex;\n",
              "      flex-wrap:wrap;\n",
              "      gap: 12px;\n",
              "    }\n",
              "\n",
              "    .colab-df-convert {\n",
              "      background-color: #E8F0FE;\n",
              "      border: none;\n",
              "      border-radius: 50%;\n",
              "      cursor: pointer;\n",
              "      display: none;\n",
              "      fill: #1967D2;\n",
              "      height: 32px;\n",
              "      padding: 0 0 0 0;\n",
              "      width: 32px;\n",
              "    }\n",
              "\n",
              "    .colab-df-convert:hover {\n",
              "      background-color: #E2EBFA;\n",
              "      box-shadow: 0px 1px 2px rgba(60, 64, 67, 0.3), 0px 1px 3px 1px rgba(60, 64, 67, 0.15);\n",
              "      fill: #174EA6;\n",
              "    }\n",
              "\n",
              "    [theme=dark] .colab-df-convert {\n",
              "      background-color: #3B4455;\n",
              "      fill: #D2E3FC;\n",
              "    }\n",
              "\n",
              "    [theme=dark] .colab-df-convert:hover {\n",
              "      background-color: #434B5C;\n",
              "      box-shadow: 0px 1px 3px 1px rgba(0, 0, 0, 0.15);\n",
              "      filter: drop-shadow(0px 1px 2px rgba(0, 0, 0, 0.3));\n",
              "      fill: #FFFFFF;\n",
              "    }\n",
              "  </style>\n",
              "\n",
              "      <script>\n",
              "        const buttonEl =\n",
              "          document.querySelector('#df-0a87b1fe-1333-4c64-9ac8-d8a8cdc5df0e button.colab-df-convert');\n",
              "        buttonEl.style.display =\n",
              "          google.colab.kernel.accessAllowed ? 'block' : 'none';\n",
              "\n",
              "        async function convertToInteractive(key) {\n",
              "          const element = document.querySelector('#df-0a87b1fe-1333-4c64-9ac8-d8a8cdc5df0e');\n",
              "          const dataTable =\n",
              "            await google.colab.kernel.invokeFunction('convertToInteractive',\n",
              "                                                     [key], {});\n",
              "          if (!dataTable) return;\n",
              "\n",
              "          const docLinkHtml = 'Like what you see? Visit the ' +\n",
              "            '<a target=\"_blank\" href=https://colab.research.google.com/notebooks/data_table.ipynb>data table notebook</a>'\n",
              "            + ' to learn more about interactive tables.';\n",
              "          element.innerHTML = '';\n",
              "          dataTable['output_type'] = 'display_data';\n",
              "          await google.colab.output.renderOutput(dataTable, element);\n",
              "          const docLink = document.createElement('div');\n",
              "          docLink.innerHTML = docLinkHtml;\n",
              "          element.appendChild(docLink);\n",
              "        }\n",
              "      </script>\n",
              "    </div>\n",
              "  </div>\n",
              "  "
            ]
          },
          "metadata": {},
          "execution_count": 6
        }
      ]
    },
    {
      "cell_type": "markdown",
      "source": [
        "Vemos que tenemos 7 features del tipo numerico, en cada una de estas features se puede analizar los valores entregados. Por ejemplo en la edad nos da una media de 37 años y vemos que el valor máximo es de 90 lo que nos da una pauta que puede haber Outliner que hay que anlizarlo a traves de graficos, que lo haremos mas adelante"
      ],
      "metadata": {
        "id": "8ZLfh5rlXxEI"
      }
    },
    {
      "cell_type": "markdown",
      "source": [
        "Observamos las variables categoricas"
      ],
      "metadata": {
        "id": "bOXeJZNgPJjB"
      }
    },
    {
      "cell_type": "code",
      "source": [
        "df.describe(include='O')"
      ],
      "metadata": {
        "colab": {
          "base_uri": "https://localhost:8080/",
          "height": 175
        },
        "id": "X_kjH2RGOOZn",
        "outputId": "d252f884-cedd-49ac-8289-94a9e0c385b5"
      },
      "execution_count": 7,
      "outputs": [
        {
          "output_type": "execute_result",
          "data": {
            "text/plain": [
              "       workclass education      marital.status      occupation relationship  \\\n",
              "count      27656     27656               27656           27656        27656   \n",
              "unique         9        16                   7              15            6   \n",
              "top      Private   HS-grad  Married-civ-spouse  Prof-specialty      Husband   \n",
              "freq       19279      8934               12720            3539        11208   \n",
              "\n",
              "         race    sex native.country income  \n",
              "count   27656  27656          27656  27656  \n",
              "unique      5      2             42      2  \n",
              "top     White   Male  United-States  <=50K  \n",
              "freq    23621  18521          24811  20953  "
            ],
            "text/html": [
              "\n",
              "  <div id=\"df-3318f621-73e8-4397-ab8e-0d3951f4df57\">\n",
              "    <div class=\"colab-df-container\">\n",
              "      <div>\n",
              "<style scoped>\n",
              "    .dataframe tbody tr th:only-of-type {\n",
              "        vertical-align: middle;\n",
              "    }\n",
              "\n",
              "    .dataframe tbody tr th {\n",
              "        vertical-align: top;\n",
              "    }\n",
              "\n",
              "    .dataframe thead th {\n",
              "        text-align: right;\n",
              "    }\n",
              "</style>\n",
              "<table border=\"1\" class=\"dataframe\">\n",
              "  <thead>\n",
              "    <tr style=\"text-align: right;\">\n",
              "      <th></th>\n",
              "      <th>workclass</th>\n",
              "      <th>education</th>\n",
              "      <th>marital.status</th>\n",
              "      <th>occupation</th>\n",
              "      <th>relationship</th>\n",
              "      <th>race</th>\n",
              "      <th>sex</th>\n",
              "      <th>native.country</th>\n",
              "      <th>income</th>\n",
              "    </tr>\n",
              "  </thead>\n",
              "  <tbody>\n",
              "    <tr>\n",
              "      <th>count</th>\n",
              "      <td>27656</td>\n",
              "      <td>27656</td>\n",
              "      <td>27656</td>\n",
              "      <td>27656</td>\n",
              "      <td>27656</td>\n",
              "      <td>27656</td>\n",
              "      <td>27656</td>\n",
              "      <td>27656</td>\n",
              "      <td>27656</td>\n",
              "    </tr>\n",
              "    <tr>\n",
              "      <th>unique</th>\n",
              "      <td>9</td>\n",
              "      <td>16</td>\n",
              "      <td>7</td>\n",
              "      <td>15</td>\n",
              "      <td>6</td>\n",
              "      <td>5</td>\n",
              "      <td>2</td>\n",
              "      <td>42</td>\n",
              "      <td>2</td>\n",
              "    </tr>\n",
              "    <tr>\n",
              "      <th>top</th>\n",
              "      <td>Private</td>\n",
              "      <td>HS-grad</td>\n",
              "      <td>Married-civ-spouse</td>\n",
              "      <td>Prof-specialty</td>\n",
              "      <td>Husband</td>\n",
              "      <td>White</td>\n",
              "      <td>Male</td>\n",
              "      <td>United-States</td>\n",
              "      <td>&lt;=50K</td>\n",
              "    </tr>\n",
              "    <tr>\n",
              "      <th>freq</th>\n",
              "      <td>19279</td>\n",
              "      <td>8934</td>\n",
              "      <td>12720</td>\n",
              "      <td>3539</td>\n",
              "      <td>11208</td>\n",
              "      <td>23621</td>\n",
              "      <td>18521</td>\n",
              "      <td>24811</td>\n",
              "      <td>20953</td>\n",
              "    </tr>\n",
              "  </tbody>\n",
              "</table>\n",
              "</div>\n",
              "      <button class=\"colab-df-convert\" onclick=\"convertToInteractive('df-3318f621-73e8-4397-ab8e-0d3951f4df57')\"\n",
              "              title=\"Convert this dataframe to an interactive table.\"\n",
              "              style=\"display:none;\">\n",
              "        \n",
              "  <svg xmlns=\"http://www.w3.org/2000/svg\" height=\"24px\"viewBox=\"0 0 24 24\"\n",
              "       width=\"24px\">\n",
              "    <path d=\"M0 0h24v24H0V0z\" fill=\"none\"/>\n",
              "    <path d=\"M18.56 5.44l.94 2.06.94-2.06 2.06-.94-2.06-.94-.94-2.06-.94 2.06-2.06.94zm-11 1L8.5 8.5l.94-2.06 2.06-.94-2.06-.94L8.5 2.5l-.94 2.06-2.06.94zm10 10l.94 2.06.94-2.06 2.06-.94-2.06-.94-.94-2.06-.94 2.06-2.06.94z\"/><path d=\"M17.41 7.96l-1.37-1.37c-.4-.4-.92-.59-1.43-.59-.52 0-1.04.2-1.43.59L10.3 9.45l-7.72 7.72c-.78.78-.78 2.05 0 2.83L4 21.41c.39.39.9.59 1.41.59.51 0 1.02-.2 1.41-.59l7.78-7.78 2.81-2.81c.8-.78.8-2.07 0-2.86zM5.41 20L4 18.59l7.72-7.72 1.47 1.35L5.41 20z\"/>\n",
              "  </svg>\n",
              "      </button>\n",
              "      \n",
              "  <style>\n",
              "    .colab-df-container {\n",
              "      display:flex;\n",
              "      flex-wrap:wrap;\n",
              "      gap: 12px;\n",
              "    }\n",
              "\n",
              "    .colab-df-convert {\n",
              "      background-color: #E8F0FE;\n",
              "      border: none;\n",
              "      border-radius: 50%;\n",
              "      cursor: pointer;\n",
              "      display: none;\n",
              "      fill: #1967D2;\n",
              "      height: 32px;\n",
              "      padding: 0 0 0 0;\n",
              "      width: 32px;\n",
              "    }\n",
              "\n",
              "    .colab-df-convert:hover {\n",
              "      background-color: #E2EBFA;\n",
              "      box-shadow: 0px 1px 2px rgba(60, 64, 67, 0.3), 0px 1px 3px 1px rgba(60, 64, 67, 0.15);\n",
              "      fill: #174EA6;\n",
              "    }\n",
              "\n",
              "    [theme=dark] .colab-df-convert {\n",
              "      background-color: #3B4455;\n",
              "      fill: #D2E3FC;\n",
              "    }\n",
              "\n",
              "    [theme=dark] .colab-df-convert:hover {\n",
              "      background-color: #434B5C;\n",
              "      box-shadow: 0px 1px 3px 1px rgba(0, 0, 0, 0.15);\n",
              "      filter: drop-shadow(0px 1px 2px rgba(0, 0, 0, 0.3));\n",
              "      fill: #FFFFFF;\n",
              "    }\n",
              "  </style>\n",
              "\n",
              "      <script>\n",
              "        const buttonEl =\n",
              "          document.querySelector('#df-3318f621-73e8-4397-ab8e-0d3951f4df57 button.colab-df-convert');\n",
              "        buttonEl.style.display =\n",
              "          google.colab.kernel.accessAllowed ? 'block' : 'none';\n",
              "\n",
              "        async function convertToInteractive(key) {\n",
              "          const element = document.querySelector('#df-3318f621-73e8-4397-ab8e-0d3951f4df57');\n",
              "          const dataTable =\n",
              "            await google.colab.kernel.invokeFunction('convertToInteractive',\n",
              "                                                     [key], {});\n",
              "          if (!dataTable) return;\n",
              "\n",
              "          const docLinkHtml = 'Like what you see? Visit the ' +\n",
              "            '<a target=\"_blank\" href=https://colab.research.google.com/notebooks/data_table.ipynb>data table notebook</a>'\n",
              "            + ' to learn more about interactive tables.';\n",
              "          element.innerHTML = '';\n",
              "          dataTable['output_type'] = 'display_data';\n",
              "          await google.colab.output.renderOutput(dataTable, element);\n",
              "          const docLink = document.createElement('div');\n",
              "          docLink.innerHTML = docLinkHtml;\n",
              "          element.appendChild(docLink);\n",
              "        }\n",
              "      </script>\n",
              "    </div>\n",
              "  </div>\n",
              "  "
            ]
          },
          "metadata": {},
          "execution_count": 7
        }
      ]
    },
    {
      "cell_type": "markdown",
      "source": [
        "Analizamos que hay 8 features categoricas mas la variable de target que tambien esta como categorica. Anlizamos lo cantidad de cada feature los unique en caso que tengamos que hacer OHE y lo valores que mas se repiten en cada feature"
      ],
      "metadata": {
        "id": "Mwd0knq5ca9s"
      }
    },
    {
      "cell_type": "markdown",
      "source": [
        "Observemos si tenemos valores nulos"
      ],
      "metadata": {
        "id": "3pe4V29zTICR"
      }
    },
    {
      "cell_type": "code",
      "source": [
        "df.isnull().sum()"
      ],
      "metadata": {
        "colab": {
          "base_uri": "https://localhost:8080/"
        },
        "id": "EXSUjnJoTHfP",
        "outputId": "27a2e89a-287c-4bf6-9658-ac63881a4b4b"
      },
      "execution_count": 8,
      "outputs": [
        {
          "output_type": "execute_result",
          "data": {
            "text/plain": [
              "index             0\n",
              "age               0\n",
              "workclass         0\n",
              "education         0\n",
              "education.num     0\n",
              "marital.status    0\n",
              "occupation        0\n",
              "relationship      0\n",
              "race              0\n",
              "sex               0\n",
              "capital.gain      0\n",
              "capital.loss      0\n",
              "hours.per.week    0\n",
              "native.country    0\n",
              "income            0\n",
              "ID                0\n",
              "dtype: int64"
            ]
          },
          "metadata": {},
          "execution_count": 8
        }
      ]
    },
    {
      "cell_type": "markdown",
      "source": [
        "En principio obvservamos que en ninguna de los feature tiene valores nulos por lo tanto en principio no tendremos que imputar valores faltantes."
      ],
      "metadata": {
        "id": "bKoU5bZ8c-BQ"
      }
    },
    {
      "cell_type": "markdown",
      "source": [
        "# BASELINE\n",
        "### Vamos a relizar un base line con los valore numericos antes de procesar el resto de los features"
      ],
      "metadata": {
        "id": "athQs9B2zZTn"
      }
    },
    {
      "cell_type": "markdown",
      "source": [
        "Primero tenemos que normalizar la feature \"Income\""
      ],
      "metadata": {
        "id": "aStonZqBztU5"
      }
    },
    {
      "cell_type": "code",
      "source": [
        "yb = df['income'].apply(lambda x: 1 if x=='>50K' else 0)"
      ],
      "metadata": {
        "id": "MhtzVQYTz62m"
      },
      "execution_count": 9,
      "outputs": []
    },
    {
      "cell_type": "code",
      "source": [
        "fig = plt.figure(figsize=(20,1))\n",
        "plt.style.use('seaborn-ticks')\n",
        "sns.countplot(y=\"income\", data=df)"
      ],
      "metadata": {
        "colab": {
          "base_uri": "https://localhost:8080/",
          "height": 136
        },
        "id": "3b6L16jMrAm3",
        "outputId": "30df7d55-f29a-462f-d401-397b3994c21d"
      },
      "execution_count": 10,
      "outputs": [
        {
          "output_type": "execute_result",
          "data": {
            "text/plain": [
              "<matplotlib.axes._subplots.AxesSubplot at 0x7f0f21e70550>"
            ]
          },
          "metadata": {},
          "execution_count": 10
        },
        {
          "output_type": "display_data",
          "data": {
            "text/plain": [
              "<Figure size 1440x72 with 1 Axes>"
            ],
            "image/png": "[encoded data removed]"
          },
          "metadata": {
            "needs_background": "light"
          }
        }
      ]
    },
    {
      "cell_type": "markdown",
      "source": [
        "Luego de obtener la columna de target en 0 y 1, 0 es para les personas que ganan menos o igual a 50K al año y 1 es para las personas que ganan mas de 50K al año.\n",
        "Ahora vamos a obtener las features numericas para realizar el baseline"
      ],
      "metadata": {
        "id": "un5L4KyPOd8d"
      }
    },
    {
      "cell_type": "code",
      "source": [
        "Xb = df.select_dtypes('number')"
      ],
      "metadata": {
        "id": "l2lYUvnvIMhx"
      },
      "execution_count": 11,
      "outputs": []
    },
    {
      "cell_type": "markdown",
      "source": [
        "Importamos para hacer la funcion para hacer un train test split de Xb e yB"
      ],
      "metadata": {
        "id": "cF0IOrf1OtD9"
      }
    },
    {
      "cell_type": "code",
      "source": [
        "from sklearn.model_selection import train_test_split"
      ],
      "metadata": {
        "id": "MAhigpeBOAKd"
      },
      "execution_count": 12,
      "outputs": []
    },
    {
      "cell_type": "code",
      "source": [
        "Xb_train, Xb_test, yb_train, yb_test = train_test_split(Xb, yb, test_size=0.2 , stratify=yb)"
      ],
      "metadata": {
        "id": "M3RDS2xKOTTv"
      },
      "execution_count": 13,
      "outputs": []
    },
    {
      "cell_type": "markdown",
      "source": [
        "Obervamos las filas y columnas de los distintos df del baseline"
      ],
      "metadata": {
        "id": "T3ZmIBJtP7R8"
      }
    },
    {
      "cell_type": "code",
      "source": [
        "Xb_train.shape"
      ],
      "metadata": {
        "colab": {
          "base_uri": "https://localhost:8080/"
        },
        "id": "MpveKXxrPiDp",
        "outputId": "efed123d-cd61-4137-b3e7-d3c4dcdc14cb"
      },
      "execution_count": 14,
      "outputs": [
        {
          "output_type": "execute_result",
          "data": {
            "text/plain": [
              "(22124, 7)"
            ]
          },
          "metadata": {},
          "execution_count": 14
        }
      ]
    },
    {
      "cell_type": "code",
      "source": [
        "Xb_test.shape"
      ],
      "metadata": {
        "colab": {
          "base_uri": "https://localhost:8080/"
        },
        "id": "kZ5cuXTuPl0k",
        "outputId": "2bc1674e-307b-4ea2-c405-790a7461c612"
      },
      "execution_count": 15,
      "outputs": [
        {
          "output_type": "execute_result",
          "data": {
            "text/plain": [
              "(5532, 7)"
            ]
          },
          "metadata": {},
          "execution_count": 15
        }
      ]
    },
    {
      "cell_type": "code",
      "source": [
        "yb_train.shape"
      ],
      "metadata": {
        "colab": {
          "base_uri": "https://localhost:8080/"
        },
        "id": "V07wkt_DPoZ7",
        "outputId": "9fb256fc-0e8b-4934-dc69-2b4b68832aec"
      },
      "execution_count": 16,
      "outputs": [
        {
          "output_type": "execute_result",
          "data": {
            "text/plain": [
              "(22124,)"
            ]
          },
          "metadata": {},
          "execution_count": 16
        }
      ]
    },
    {
      "cell_type": "code",
      "source": [
        "yb_test.shape"
      ],
      "metadata": {
        "colab": {
          "base_uri": "https://localhost:8080/"
        },
        "id": "PIpS1c29Pzo_",
        "outputId": "54122865-78c7-4259-ba74-6958f083483f"
      },
      "execution_count": 17,
      "outputs": [
        {
          "output_type": "execute_result",
          "data": {
            "text/plain": [
              "(5532,)"
            ]
          },
          "metadata": {},
          "execution_count": 17
        }
      ]
    },
    {
      "cell_type": "markdown",
      "source": [
        "### En primer termino definimos que es un problema de clasificación y no de regresión. Por lo tanto tenemos dos alternativas para trabajar.Vamos a optar realizar el BASELINE un arbol de clasificación en lugar de un KNN ya que este ultimo es mas suseptible al los valores outlines y todavia no tratamos ninguno de los features"
      ],
      "metadata": {
        "id": "3CC8fkAFQBV3"
      }
    },
    {
      "cell_type": "code",
      "source": [
        "from sklearn.tree import DecisionTreeClassifier"
      ],
      "metadata": {
        "id": "gWbVTjRCP337"
      },
      "execution_count": 18,
      "outputs": []
    },
    {
      "cell_type": "markdown",
      "source": [
        "Definimos el hiperparametro de profundidad del tree en 3"
      ],
      "metadata": {
        "id": "NFYBPK9yUEAL"
      }
    },
    {
      "cell_type": "code",
      "source": [
        "tree_b = DecisionTreeClassifier(max_depth= 3)"
      ],
      "metadata": {
        "id": "pVWS3KSIQpHI"
      },
      "execution_count": 19,
      "outputs": []
    },
    {
      "cell_type": "markdown",
      "source": [
        "Entrenamos el tree con X e y de train"
      ],
      "metadata": {
        "id": "Xii5UuamUMeN"
      }
    },
    {
      "cell_type": "code",
      "source": [
        "tree_b.fit(Xb_train,yb_train)"
      ],
      "metadata": {
        "colab": {
          "base_uri": "https://localhost:8080/"
        },
        "id": "EYdcklwqSMye",
        "outputId": "c6105960-e2a5-4f9f-ea52-bfe79002d7ad"
      },
      "execution_count": 20,
      "outputs": [
        {
          "output_type": "execute_result",
          "data": {
            "text/plain": [
              "DecisionTreeClassifier(max_depth=3)"
            ]
          },
          "metadata": {},
          "execution_count": 20
        }
      ]
    },
    {
      "cell_type": "markdown",
      "source": [
        "Obtenemos las prediciones de train y de test"
      ],
      "metadata": {
        "id": "V9EQz5YLUSlX"
      }
    },
    {
      "cell_type": "code",
      "source": [
        "y_pred_train_b = tree_b.predict(Xb_train)\n",
        "y_pred_test_b = tree_b.predict(Xb_test)"
      ],
      "metadata": {
        "id": "itdNxeteSUYm"
      },
      "execution_count": 21,
      "outputs": []
    },
    {
      "cell_type": "markdown",
      "source": [
        "Importamos la metrica de accuaracy para medir la precision de nuestro BASELINE"
      ],
      "metadata": {
        "id": "1SPxLa8wUaNw"
      }
    },
    {
      "cell_type": "code",
      "source": [
        "from sklearn.metrics import accuracy_score"
      ],
      "metadata": {
        "id": "2BTCqBgFTH_i"
      },
      "execution_count": 22,
      "outputs": []
    },
    {
      "cell_type": "markdown",
      "source": [
        "Calulcamos los accuaracy de train y de test"
      ],
      "metadata": {
        "id": "h3m4y_k9UiQp"
      }
    },
    {
      "cell_type": "code",
      "source": [
        "accuracy_score(yb_train, y_pred_train_b)"
      ],
      "metadata": {
        "colab": {
          "base_uri": "https://localhost:8080/"
        },
        "id": "smCy5eLcTaVI",
        "outputId": "b3490223-abb7-415d-e6cc-b3360e6db813"
      },
      "execution_count": 23,
      "outputs": [
        {
          "output_type": "execute_result",
          "data": {
            "text/plain": [
              "0.807946121858615"
            ]
          },
          "metadata": {},
          "execution_count": 23
        }
      ]
    },
    {
      "cell_type": "code",
      "source": [
        "accuracy_score(yb_test, y_pred_test_b)"
      ],
      "metadata": {
        "colab": {
          "base_uri": "https://localhost:8080/"
        },
        "id": "S5bhRQMBTlaf",
        "outputId": "59d85dc4-d38b-461f-f769-a2e25204ffc0"
      },
      "execution_count": 24,
      "outputs": [
        {
          "output_type": "execute_result",
          "data": {
            "text/plain": [
              "0.8013376717281273"
            ]
          },
          "metadata": {},
          "execution_count": 24
        }
      ]
    },
    {
      "cell_type": "markdown",
      "source": [
        "##Como conclusion de este BASE LINE, sin haber echo tratamiento a ninguna features y solo con los valores numericos de base se obtiene un valor bastante acceptable de precision."
      ],
      "metadata": {
        "id": "YzWSU5JPUqDY"
      }
    },
    {
      "cell_type": "markdown",
      "source": [
        "# Vamos a trabajar con los features del DF"
      ],
      "metadata": {
        "id": "7JyhPAHTV4mR"
      }
    },
    {
      "cell_type": "markdown",
      "source": [
        "## Primero lo vamos a hacer con las variables numericas"
      ],
      "metadata": {
        "id": "qxhdgQZuV-h8"
      }
    },
    {
      "cell_type": "code",
      "source": [
        "df.describe()"
      ],
      "metadata": {
        "colab": {
          "base_uri": "https://localhost:8080/",
          "height": 300
        },
        "id": "AVIEdaqVT3JN",
        "outputId": "dfbdecb9-3ddb-44f7-dffb-0172d48f9bf7"
      },
      "execution_count": 25,
      "outputs": [
        {
          "output_type": "execute_result",
          "data": {
            "text/plain": [
              "              index           age  education.num  capital.gain  capital.loss  \\\n",
              "count  27656.000000  27656.000000   27656.000000  27656.000000  27656.000000   \n",
              "mean   16274.894851     38.610356      10.093506   1099.991503     88.284387   \n",
              "std     9410.041750     13.659928       2.566083   7487.323462    405.821328   \n",
              "min        0.000000     17.000000       1.000000      0.000000      0.000000   \n",
              "25%     8104.750000     28.000000       9.000000      0.000000      0.000000   \n",
              "50%    16296.000000     37.000000      10.000000      0.000000      0.000000   \n",
              "75%    24431.250000     48.000000      12.000000      0.000000      0.000000   \n",
              "max    32559.000000     90.000000      16.000000  99999.000000   4356.000000   \n",
              "\n",
              "       hours.per.week            ID  \n",
              "count    27656.000000  27656.000000  \n",
              "mean        40.446666  16267.565736  \n",
              "std         12.369212   9403.092602  \n",
              "min          1.000000      0.000000  \n",
              "25%         40.000000   8104.750000  \n",
              "50%         40.000000  16291.000000  \n",
              "75%         45.000000  24416.250000  \n",
              "max         99.000000  32535.000000  "
            ],
            "text/html": [
              "\n",
              "  <div id=\"df-82811d1a-4142-4232-9b2b-31cf3074eb2c\">\n",
              "    <div class=\"colab-df-container\">\n",
              "      <div>\n",
              "<style scoped>\n",
              "    .dataframe tbody tr th:only-of-type {\n",
              "        vertical-align: middle;\n",
              "    }\n",
              "\n",
              "    .dataframe tbody tr th {\n",
              "        vertical-align: top;\n",
              "    }\n",
              "\n",
              "    .dataframe thead th {\n",
              "        text-align: right;\n",
              "    }\n",
              "</style>\n",
              "<table border=\"1\" class=\"dataframe\">\n",
              "  <thead>\n",
              "    <tr style=\"text-align: right;\">\n",
              "      <th></th>\n",
              "      <th>index</th>\n",
              "      <th>age</th>\n",
              "      <th>education.num</th>\n",
              "      <th>capital.gain</th>\n",
              "      <th>capital.loss</th>\n",
              "      <th>hours.per.week</th>\n",
              "      <th>ID</th>\n",
              "    </tr>\n",
              "  </thead>\n",
              "  <tbody>\n",
              "    <tr>\n",
              "      <th>count</th>\n",
              "      <td>27656.000000</td>\n",
              "      <td>27656.000000</td>\n",
              "      <td>27656.000000</td>\n",
              "      <td>27656.000000</td>\n",
              "      <td>27656.000000</td>\n",
              "      <td>27656.000000</td>\n",
              "      <td>27656.000000</td>\n",
              "    </tr>\n",
              "    <tr>\n",
              "      <th>mean</th>\n",
              "      <td>16274.894851</td>\n",
              "      <td>38.610356</td>\n",
              "      <td>10.093506</td>\n",
              "      <td>1099.991503</td>\n",
              "      <td>88.284387</td>\n",
              "      <td>40.446666</td>\n",
              "      <td>16267.565736</td>\n",
              "    </tr>\n",
              "    <tr>\n",
              "      <th>std</th>\n",
              "      <td>9410.041750</td>\n",
              "      <td>13.659928</td>\n",
              "      <td>2.566083</td>\n",
              "      <td>7487.323462</td>\n",
              "      <td>405.821328</td>\n",
              "      <td>12.369212</td>\n",
              "      <td>9403.092602</td>\n",
              "    </tr>\n",
              "    <tr>\n",
              "      <th>min</th>\n",
              "      <td>0.000000</td>\n",
              "      <td>17.000000</td>\n",
              "      <td>1.000000</td>\n",
              "      <td>0.000000</td>\n",
              "      <td>0.000000</td>\n",
              "      <td>1.000000</td>\n",
              "      <td>0.000000</td>\n",
              "    </tr>\n",
              "    <tr>\n",
              "      <th>25%</th>\n",
              "      <td>8104.750000</td>\n",
              "      <td>28.000000</td>\n",
              "      <td>9.000000</td>\n",
              "      <td>0.000000</td>\n",
              "      <td>0.000000</td>\n",
              "      <td>40.000000</td>\n",
              "      <td>8104.750000</td>\n",
              "    </tr>\n",
              "    <tr>\n",
              "      <th>50%</th>\n",
              "      <td>16296.000000</td>\n",
              "      <td>37.000000</td>\n",
              "      <td>10.000000</td>\n",
              "      <td>0.000000</td>\n",
              "      <td>0.000000</td>\n",
              "      <td>40.000000</td>\n",
              "      <td>16291.000000</td>\n",
              "    </tr>\n",
              "    <tr>\n",
              "      <th>75%</th>\n",
              "      <td>24431.250000</td>\n",
              "      <td>48.000000</td>\n",
              "      <td>12.000000</td>\n",
              "      <td>0.000000</td>\n",
              "      <td>0.000000</td>\n",
              "      <td>45.000000</td>\n",
              "      <td>24416.250000</td>\n",
              "    </tr>\n",
              "    <tr>\n",
              "      <th>max</th>\n",
              "      <td>32559.000000</td>\n",
              "      <td>90.000000</td>\n",
              "      <td>16.000000</td>\n",
              "      <td>99999.000000</td>\n",
              "      <td>4356.000000</td>\n",
              "      <td>99.000000</td>\n",
              "      <td>32535.000000</td>\n",
              "    </tr>\n",
              "  </tbody>\n",
              "</table>\n",
              "</div>\n",
              "      <button class=\"colab-df-convert\" onclick=\"convertToInteractive('df-82811d1a-4142-4232-9b2b-31cf3074eb2c')\"\n",
              "              title=\"Convert this dataframe to an interactive table.\"\n",
              "              style=\"display:none;\">\n",
              "        \n",
              "  <svg xmlns=\"http://www.w3.org/2000/svg\" height=\"24px\"viewBox=\"0 0 24 24\"\n",
              "       width=\"24px\">\n",
              "    <path d=\"M0 0h24v24H0V0z\" fill=\"none\"/>\n",
              "    <path d=\"M18.56 5.44l.94 2.06.94-2.06 2.06-.94-2.06-.94-.94-2.06-.94 2.06-2.06.94zm-11 1L8.5 8.5l.94-2.06 2.06-.94-2.06-.94L8.5 2.5l-.94 2.06-2.06.94zm10 10l.94 2.06.94-2.06 2.06-.94-2.06-.94-.94-2.06-.94 2.06-2.06.94z\"/><path d=\"M17.41 7.96l-1.37-1.37c-.4-.4-.92-.59-1.43-.59-.52 0-1.04.2-1.43.59L10.3 9.45l-7.72 7.72c-.78.78-.78 2.05 0 2.83L4 21.41c.39.39.9.59 1.41.59.51 0 1.02-.2 1.41-.59l7.78-7.78 2.81-2.81c.8-.78.8-2.07 0-2.86zM5.41 20L4 18.59l7.72-7.72 1.47 1.35L5.41 20z\"/>\n",
              "  </svg>\n",
              "      </button>\n",
              "      \n",
              "  <style>\n",
              "    .colab-df-container {\n",
              "      display:flex;\n",
              "      flex-wrap:wrap;\n",
              "      gap: 12px;\n",
              "    }\n",
              "\n",
              "    .colab-df-convert {\n",
              "      background-color: #E8F0FE;\n",
              "      border: none;\n",
              "      border-radius: 50%;\n",
              "      cursor: pointer;\n",
              "      display: none;\n",
              "      fill: #1967D2;\n",
              "      height: 32px;\n",
              "      padding: 0 0 0 0;\n",
              "      width: 32px;\n",
              "    }\n",
              "\n",
              "    .colab-df-convert:hover {\n",
              "      background-color: #E2EBFA;\n",
              "      box-shadow: 0px 1px 2px rgba(60, 64, 67, 0.3), 0px 1px 3px 1px rgba(60, 64, 67, 0.15);\n",
              "      fill: #174EA6;\n",
              "    }\n",
              "\n",
              "    [theme=dark] .colab-df-convert {\n",
              "      background-color: #3B4455;\n",
              "      fill: #D2E3FC;\n",
              "    }\n",
              "\n",
              "    [theme=dark] .colab-df-convert:hover {\n",
              "      background-color: #434B5C;\n",
              "      box-shadow: 0px 1px 3px 1px rgba(0, 0, 0, 0.15);\n",
              "      filter: drop-shadow(0px 1px 2px rgba(0, 0, 0, 0.3));\n",
              "      fill: #FFFFFF;\n",
              "    }\n",
              "  </style>\n",
              "\n",
              "      <script>\n",
              "        const buttonEl =\n",
              "          document.querySelector('#df-82811d1a-4142-4232-9b2b-31cf3074eb2c button.colab-df-convert');\n",
              "        buttonEl.style.display =\n",
              "          google.colab.kernel.accessAllowed ? 'block' : 'none';\n",
              "\n",
              "        async function convertToInteractive(key) {\n",
              "          const element = document.querySelector('#df-82811d1a-4142-4232-9b2b-31cf3074eb2c');\n",
              "          const dataTable =\n",
              "            await google.colab.kernel.invokeFunction('convertToInteractive',\n",
              "                                                     [key], {});\n",
              "          if (!dataTable) return;\n",
              "\n",
              "          const docLinkHtml = 'Like what you see? Visit the ' +\n",
              "            '<a target=\"_blank\" href=https://colab.research.google.com/notebooks/data_table.ipynb>data table notebook</a>'\n",
              "            + ' to learn more about interactive tables.';\n",
              "          element.innerHTML = '';\n",
              "          dataTable['output_type'] = 'display_data';\n",
              "          await google.colab.output.renderOutput(dataTable, element);\n",
              "          const docLink = document.createElement('div');\n",
              "          docLink.innerHTML = docLinkHtml;\n",
              "          element.appendChild(docLink);\n",
              "        }\n",
              "      </script>\n",
              "    </div>\n",
              "  </div>\n",
              "  "
            ]
          },
          "metadata": {},
          "execution_count": 25
        }
      ]
    },
    {
      "cell_type": "markdown",
      "source": [
        "Vamos a graficar la distribucion de cada variable y tambien un box plot de las mismas para verificar si se observan outliers"
      ],
      "metadata": {
        "id": "-VqmMlredtmg"
      }
    },
    {
      "cell_type": "code",
      "source": [
        "columnas = df.select_dtypes('number').columns\n",
        "fig, axes = plt.subplots(nrows = len(columnas), ncols=2, figsize=(20,60))\n",
        "\n",
        "for index, col in enumerate (columnas):\n",
        "  axes[index][0].set_title(f'Distribucion de la variable {col}')\n",
        "  sns.distplot (x=df[col], ax=axes[index][0])\n",
        "\n",
        "  axes[index][1].set_title(f'Box plot de la variable {col}')\n",
        "  sns.boxplot (x=df[col], ax=axes[index][1])\n",
        "\n",
        "plt.show()"
      ],
      "metadata": {
        "colab": {
          "base_uri": "https://localhost:8080/",
          "height": 1000
        },
        "id": "IvHNvcCzi72R",
        "outputId": "f5419d09-b986-445d-e1a9-e6ec04a95425"
      },
      "execution_count": 26,
      "outputs": [
        {
          "output_type": "stream",
          "name": "stderr",
          "text": [
            "/usr/local/lib/python3.7/dist-packages/seaborn/distributions.py:2619: FutureWarning: `distplot` is a deprecated function and will be removed in a future version. Please adapt your code to use either `displot` (a figure-level function with similar flexibility) or `histplot` (an axes-level function for histograms).\n",
            "  warnings.warn(msg, FutureWarning)\n",
            "/usr/local/lib/python3.7/dist-packages/seaborn/distributions.py:2619: FutureWarning: `distplot` is a deprecated function and will be removed in a future version. Please adapt your code to use either `displot` (a figure-level function with similar flexibility) or `histplot` (an axes-level function for histograms).\n",
            "  warnings.warn(msg, FutureWarning)\n",
            "/usr/local/lib/python3.7/dist-packages/seaborn/distributions.py:2619: FutureWarning: `distplot` is a deprecated function and will be removed in a future version. Please adapt your code to use either `displot` (a figure-level function with similar flexibility) or `histplot` (an axes-level function for histograms).\n",
            "  warnings.warn(msg, FutureWarning)\n",
            "/usr/local/lib/python3.7/dist-packages/seaborn/distributions.py:2619: FutureWarning: `distplot` is a deprecated function and will be removed in a future version. Please adapt your code to use either `displot` (a figure-level function with similar flexibility) or `histplot` (an axes-level function for histograms).\n",
            "  warnings.warn(msg, FutureWarning)\n",
            "/usr/local/lib/python3.7/dist-packages/seaborn/distributions.py:2619: FutureWarning: `distplot` is a deprecated function and will be removed in a future version. Please adapt your code to use either `displot` (a figure-level function with similar flexibility) or `histplot` (an axes-level function for histograms).\n",
            "  warnings.warn(msg, FutureWarning)\n",
            "/usr/local/lib/python3.7/dist-packages/seaborn/distributions.py:2619: FutureWarning: `distplot` is a deprecated function and will be removed in a future version. Please adapt your code to use either `displot` (a figure-level function with similar flexibility) or `histplot` (an axes-level function for histograms).\n",
            "  warnings.warn(msg, FutureWarning)\n",
            "/usr/local/lib/python3.7/dist-packages/seaborn/distributions.py:2619: FutureWarning: `distplot` is a deprecated function and will be removed in a future version. Please adapt your code to use either `displot` (a figure-level function with similar flexibility) or `histplot` (an axes-level function for histograms).\n",
            "  warnings.warn(msg, FutureWarning)\n"
          ]
        },
        {
          "output_type": "display_data",
          "data": {
            "text/plain": [
              "<Figure size 1440x4320 with 14 Axes>"
            ],
            "image/png": "[encoded data removed]"
          },
          "metadata": {}
        }
      ]
    },
    {
      "cell_type": "markdown",
      "source": [
        "  Analizando los graficos como primera conclusion y obvia vemos que tanto la frature INDEX como ID son features uniformes.\n",
        "  Luego vemos la feature AGE que tiene un distribución asimetrica, lo cual es logico ya que a medida que la edad aumenta hay menos trabajadores activos. Los valores extremos en principio no lo consideraria OUTLINERS ya que pueden ser una feature que correlaciona bien con nuestro target.\n",
        "  La feature EDUCATION.NUM es una serie que va de 1 a 16 y por lo que se observó cuando se analizaron las variables categoricas cada numero representa una variable de dicha columna. Cuando analizemos las variables categoricas lo vamos a confirmar.\n",
        "  Las features Capital.gain com Capital.loss en principio es una variable que en su gran mayoria son valores en cero. Por lo tanto no logramos identrificar cuales serian si es que hay valores outliners. En las graficas de distribucion se observa que los pocos valores que hay estan muy concentrados en un pequeña porcion de la grafica. Vamos a observar en la correlación como se comporta con la feature target.\n",
        "  La feature hours.per.week tiene un distribución bastante normalizada y deberia tener una buen correlación con la feature target. Considero no tomar como outliners los valores extremos.\n"
      ],
      "metadata": {
        "id": "nn6BQ33-y1ux"
      }
    },
    {
      "cell_type": "markdown",
      "source": [
        "## Vamos a ver la correlacion entre las diferentes feature numericas y vamos a agregar **income** que es la variable target para observar como se correlaciona."
      ],
      "metadata": {
        "id": "v9_bSUQRIBIC"
      }
    },
    {
      "cell_type": "code",
      "source": [
        "df_num = df.select_dtypes('number')"
      ],
      "metadata": {
        "id": "3ATREDhQ5JeC"
      },
      "execution_count": 27,
      "outputs": []
    },
    {
      "cell_type": "code",
      "source": [
        "df_num.shape"
      ],
      "metadata": {
        "colab": {
          "base_uri": "https://localhost:8080/"
        },
        "id": "9_acbdFIBcS5",
        "outputId": "645b85cf-1f0f-4c5e-fcc1-b1d5e2976899"
      },
      "execution_count": 28,
      "outputs": [
        {
          "output_type": "execute_result",
          "data": {
            "text/plain": [
              "(27656, 7)"
            ]
          },
          "metadata": {},
          "execution_count": 28
        }
      ]
    },
    {
      "cell_type": "code",
      "source": [
        "yb.shape"
      ],
      "metadata": {
        "colab": {
          "base_uri": "https://localhost:8080/"
        },
        "id": "uMVJeR6RA_sJ",
        "outputId": "feac7ae6-a8d5-485c-da01-4c7b6a447438"
      },
      "execution_count": 29,
      "outputs": [
        {
          "output_type": "execute_result",
          "data": {
            "text/plain": [
              "(27656,)"
            ]
          },
          "metadata": {},
          "execution_count": 29
        }
      ]
    },
    {
      "cell_type": "code",
      "source": [
        "df_num = pd.concat([df_num, yb], axis=1)"
      ],
      "metadata": {
        "id": "SV-E2V2k-eUT"
      },
      "execution_count": 30,
      "outputs": []
    },
    {
      "cell_type": "code",
      "source": [
        "df_num.corr"
      ],
      "metadata": {
        "colab": {
          "base_uri": "https://localhost:8080/"
        },
        "id": "tFS57wbh8rnk",
        "outputId": "3a515cf8-08bf-42bf-880a-b42fcf891618"
      },
      "execution_count": 31,
      "outputs": [
        {
          "output_type": "execute_result",
          "data": {
            "text/plain": [
              "<bound method DataFrame.corr of        index  age  education.num  capital.gain  capital.loss  hours.per.week  \\\n",
              "0      24466   30              9             0             0              32   \n",
              "1        985   37             13             0          1848              40   \n",
              "2      30250   41              9             0             0              60   \n",
              "3       7107   45             13             0             0              60   \n",
              "4      27656   28              9             0             0              40   \n",
              "...      ...  ...            ...           ...           ...             ...   \n",
              "27651  29823   31              9             0             0              40   \n",
              "27652   5390   51             11             0             0              40   \n",
              "27653    860   55              9             0          1887              40   \n",
              "27654  15800   23             13             0             0              25   \n",
              "27655  23667   47             13             0             0              60   \n",
              "\n",
              "          ID  income  \n",
              "0      24451       0  \n",
              "1        985       1  \n",
              "2      30229       1  \n",
              "3       7107       1  \n",
              "4      27639       0  \n",
              "...      ...     ...  \n",
              "27651  29802       0  \n",
              "27652   5390       1  \n",
              "27653    860       1  \n",
              "27654  15795       0  \n",
              "27655  23654       0  \n",
              "\n",
              "[27656 rows x 8 columns]>"
            ]
          },
          "metadata": {},
          "execution_count": 31
        }
      ]
    },
    {
      "cell_type": "code",
      "source": [
        "# Generate a mask for the upper triangle\n",
        "mask = np.triu(np.ones_like(df_num.corr(), dtype=bool))\n",
        "\n",
        "# Set up the matplotlib figure\n",
        "f, ax = plt.subplots(figsize=(20, 12))\n",
        "\n",
        "# Generate a custom diverging colormap\n",
        "cmap = sns.diverging_palette(240, 10, as_cmap=True)\n",
        "\n",
        "# Draw the heatmap with the mask and correct aspect ratio\n",
        "sns.heatmap(df_num.corr(), mask=mask, cmap=cmap, center=0,\n",
        "            square=True, linewidths=.5, annot=True)"
      ],
      "metadata": {
        "colab": {
          "base_uri": "https://localhost:8080/",
          "height": 720
        },
        "id": "J4tVlfqk8t7E",
        "outputId": "88b90358-bea9-43e1-85d2-cdc651b97514"
      },
      "execution_count": 32,
      "outputs": [
        {
          "output_type": "execute_result",
          "data": {
            "text/plain": [
              "<matplotlib.axes._subplots.AxesSubplot at 0x7f0f1d677b90>"
            ]
          },
          "metadata": {},
          "execution_count": 32
        },
        {
          "output_type": "display_data",
          "data": {
            "text/plain": [
              "<Figure size 1440x864 with 2 Axes>"
            ],
            "image/png": "[encoded data removed]"
          },
          "metadata": {}
        }
      ]
    },
    {
      "cell_type": "markdown",
      "source": [
        "Lo primero que observamos es que entre la variable Index e ID hay una correlacion perfecta por lo tanto la feature index la vamos a eliminar para realizar la clasificacion. Entre el resto de las feature se observa poca correlacion, ya el valor maximo por ejemplo es 0.36."
      ],
      "metadata": {
        "id": "nv82wctuIfJa"
      }
    },
    {
      "cell_type": "markdown",
      "source": [
        "Agregamos un grafico donde observamos como se correlaciona cada feature con la variable taret"
      ],
      "metadata": {
        "id": "vrbR5q61IVOT"
      }
    },
    {
      "cell_type": "code",
      "source": [
        "target_corr = pd.DataFrame(df_num.corr()['income'], index=df_num.corr().index)\n",
        "\n",
        "plt.figure(figsize=(10,10))\n",
        "sns.heatmap(target_corr, annot=True, cmap=cmap)\n",
        "\n",
        "plt.show()"
      ],
      "metadata": {
        "colab": {
          "base_uri": "https://localhost:8080/",
          "height": 598
        },
        "id": "ftAfEN0bF216",
        "outputId": "e6ec23ae-17e5-448a-cea9-b342ab73c500"
      },
      "execution_count": 33,
      "outputs": [
        {
          "output_type": "display_data",
          "data": {
            "text/plain": [
              "<Figure size 720x720 with 2 Axes>"
            ],
            "image/png": "[encoded data removed]"
          },
          "metadata": {}
        }
      ]
    },
    {
      "cell_type": "markdown",
      "source": [
        "Vemos que la variable que mayor correlación tiene con **income** es **education.num** que igualmente tampoco es tan alta es solo **0.34**"
      ],
      "metadata": {
        "id": "izXiTxzjJyl6"
      }
    },
    {
      "cell_type": "markdown",
      "source": [
        "### Como primera conclusion de las variables numericas solo vamos a eliminar la columna **index** que se correlaciona perfectamente con **ID**. El resto de las columnas las vamos a dejar sin alteraciones por las razones explicadas anteriormente."
      ],
      "metadata": {
        "id": "WOwlYEDwKLw4"
      }
    },
    {
      "cell_type": "markdown",
      "source": [
        "## Ahora vamos a trabajar con las variables categoricas"
      ],
      "metadata": {
        "id": "O9cp9t_5L-W1"
      }
    },
    {
      "cell_type": "code",
      "source": [
        "df.describe(include='O')"
      ],
      "metadata": {
        "colab": {
          "base_uri": "https://localhost:8080/",
          "height": 175
        },
        "id": "tIHEIm_9KEOr",
        "outputId": "ce7ff65d-f029-41e1-e5ae-8850f30bfe39"
      },
      "execution_count": 34,
      "outputs": [
        {
          "output_type": "execute_result",
          "data": {
            "text/plain": [
              "       workclass education      marital.status      occupation relationship  \\\n",
              "count      27656     27656               27656           27656        27656   \n",
              "unique         9        16                   7              15            6   \n",
              "top      Private   HS-grad  Married-civ-spouse  Prof-specialty      Husband   \n",
              "freq       19279      8934               12720            3539        11208   \n",
              "\n",
              "         race    sex native.country income  \n",
              "count   27656  27656          27656  27656  \n",
              "unique      5      2             42      2  \n",
              "top     White   Male  United-States  <=50K  \n",
              "freq    23621  18521          24811  20953  "
            ],
            "text/html": [
              "\n",
              "  <div id=\"df-dc6ecc18-87d3-4d55-a4e3-a6fe6aa13fe1\">\n",
              "    <div class=\"colab-df-container\">\n",
              "      <div>\n",
              "<style scoped>\n",
              "    .dataframe tbody tr th:only-of-type {\n",
              "        vertical-align: middle;\n",
              "    }\n",
              "\n",
              "    .dataframe tbody tr th {\n",
              "        vertical-align: top;\n",
              "    }\n",
              "\n",
              "    .dataframe thead th {\n",
              "        text-align: right;\n",
              "    }\n",
              "</style>\n",
              "<table border=\"1\" class=\"dataframe\">\n",
              "  <thead>\n",
              "    <tr style=\"text-align: right;\">\n",
              "      <th></th>\n",
              "      <th>workclass</th>\n",
              "      <th>education</th>\n",
              "      <th>marital.status</th>\n",
              "      <th>occupation</th>\n",
              "      <th>relationship</th>\n",
              "      <th>race</th>\n",
              "      <th>sex</th>\n",
              "      <th>native.country</th>\n",
              "      <th>income</th>\n",
              "    </tr>\n",
              "  </thead>\n",
              "  <tbody>\n",
              "    <tr>\n",
              "      <th>count</th>\n",
              "      <td>27656</td>\n",
              "      <td>27656</td>\n",
              "      <td>27656</td>\n",
              "      <td>27656</td>\n",
              "      <td>27656</td>\n",
              "      <td>27656</td>\n",
              "      <td>27656</td>\n",
              "      <td>27656</td>\n",
              "      <td>27656</td>\n",
              "    </tr>\n",
              "    <tr>\n",
              "      <th>unique</th>\n",
              "      <td>9</td>\n",
              "      <td>16</td>\n",
              "      <td>7</td>\n",
              "      <td>15</td>\n",
              "      <td>6</td>\n",
              "      <td>5</td>\n",
              "      <td>2</td>\n",
              "      <td>42</td>\n",
              "      <td>2</td>\n",
              "    </tr>\n",
              "    <tr>\n",
              "      <th>top</th>\n",
              "      <td>Private</td>\n",
              "      <td>HS-grad</td>\n",
              "      <td>Married-civ-spouse</td>\n",
              "      <td>Prof-specialty</td>\n",
              "      <td>Husband</td>\n",
              "      <td>White</td>\n",
              "      <td>Male</td>\n",
              "      <td>United-States</td>\n",
              "      <td>&lt;=50K</td>\n",
              "    </tr>\n",
              "    <tr>\n",
              "      <th>freq</th>\n",
              "      <td>19279</td>\n",
              "      <td>8934</td>\n",
              "      <td>12720</td>\n",
              "      <td>3539</td>\n",
              "      <td>11208</td>\n",
              "      <td>23621</td>\n",
              "      <td>18521</td>\n",
              "      <td>24811</td>\n",
              "      <td>20953</td>\n",
              "    </tr>\n",
              "  </tbody>\n",
              "</table>\n",
              "</div>\n",
              "      <button class=\"colab-df-convert\" onclick=\"convertToInteractive('df-dc6ecc18-87d3-4d55-a4e3-a6fe6aa13fe1')\"\n",
              "              title=\"Convert this dataframe to an interactive table.\"\n",
              "              style=\"display:none;\">\n",
              "        \n",
              "  <svg xmlns=\"http://www.w3.org/2000/svg\" height=\"24px\"viewBox=\"0 0 24 24\"\n",
              "       width=\"24px\">\n",
              "    <path d=\"M0 0h24v24H0V0z\" fill=\"none\"/>\n",
              "    <path d=\"M18.56 5.44l.94 2.06.94-2.06 2.06-.94-2.06-.94-.94-2.06-.94 2.06-2.06.94zm-11 1L8.5 8.5l.94-2.06 2.06-.94-2.06-.94L8.5 2.5l-.94 2.06-2.06.94zm10 10l.94 2.06.94-2.06 2.06-.94-2.06-.94-.94-2.06-.94 2.06-2.06.94z\"/><path d=\"M17.41 7.96l-1.37-1.37c-.4-.4-.92-.59-1.43-.59-.52 0-1.04.2-1.43.59L10.3 9.45l-7.72 7.72c-.78.78-.78 2.05 0 2.83L4 21.41c.39.39.9.59 1.41.59.51 0 1.02-.2 1.41-.59l7.78-7.78 2.81-2.81c.8-.78.8-2.07 0-2.86zM5.41 20L4 18.59l7.72-7.72 1.47 1.35L5.41 20z\"/>\n",
              "  </svg>\n",
              "      </button>\n",
              "      \n",
              "  <style>\n",
              "    .colab-df-container {\n",
              "      display:flex;\n",
              "      flex-wrap:wrap;\n",
              "      gap: 12px;\n",
              "    }\n",
              "\n",
              "    .colab-df-convert {\n",
              "      background-color: #E8F0FE;\n",
              "      border: none;\n",
              "      border-radius: 50%;\n",
              "      cursor: pointer;\n",
              "      display: none;\n",
              "      fill: #1967D2;\n",
              "      height: 32px;\n",
              "      padding: 0 0 0 0;\n",
              "      width: 32px;\n",
              "    }\n",
              "\n",
              "    .colab-df-convert:hover {\n",
              "      background-color: #E2EBFA;\n",
              "      box-shadow: 0px 1px 2px rgba(60, 64, 67, 0.3), 0px 1px 3px 1px rgba(60, 64, 67, 0.15);\n",
              "      fill: #174EA6;\n",
              "    }\n",
              "\n",
              "    [theme=dark] .colab-df-convert {\n",
              "      background-color: #3B4455;\n",
              "      fill: #D2E3FC;\n",
              "    }\n",
              "\n",
              "    [theme=dark] .colab-df-convert:hover {\n",
              "      background-color: #434B5C;\n",
              "      box-shadow: 0px 1px 3px 1px rgba(0, 0, 0, 0.15);\n",
              "      filter: drop-shadow(0px 1px 2px rgba(0, 0, 0, 0.3));\n",
              "      fill: #FFFFFF;\n",
              "    }\n",
              "  </style>\n",
              "\n",
              "      <script>\n",
              "        const buttonEl =\n",
              "          document.querySelector('#df-dc6ecc18-87d3-4d55-a4e3-a6fe6aa13fe1 button.colab-df-convert');\n",
              "        buttonEl.style.display =\n",
              "          google.colab.kernel.accessAllowed ? 'block' : 'none';\n",
              "\n",
              "        async function convertToInteractive(key) {\n",
              "          const element = document.querySelector('#df-dc6ecc18-87d3-4d55-a4e3-a6fe6aa13fe1');\n",
              "          const dataTable =\n",
              "            await google.colab.kernel.invokeFunction('convertToInteractive',\n",
              "                                                     [key], {});\n",
              "          if (!dataTable) return;\n",
              "\n",
              "          const docLinkHtml = 'Like what you see? Visit the ' +\n",
              "            '<a target=\"_blank\" href=https://colab.research.google.com/notebooks/data_table.ipynb>data table notebook</a>'\n",
              "            + ' to learn more about interactive tables.';\n",
              "          element.innerHTML = '';\n",
              "          dataTable['output_type'] = 'display_data';\n",
              "          await google.colab.output.renderOutput(dataTable, element);\n",
              "          const docLink = document.createElement('div');\n",
              "          docLink.innerHTML = docLinkHtml;\n",
              "          element.appendChild(docLink);\n",
              "        }\n",
              "      </script>\n",
              "    </div>\n",
              "  </div>\n",
              "  "
            ]
          },
          "metadata": {},
          "execution_count": 34
        }
      ]
    },
    {
      "cell_type": "markdown",
      "source": [
        "Graficamos las variables categoricas en sus distintas alternativas y respecto al income"
      ],
      "metadata": {
        "id": "iH5FBb1Xo0vh"
      }
    },
    {
      "cell_type": "markdown",
      "source": [
        "Analizamos primero la variable **workclass**"
      ],
      "metadata": {
        "id": "lxLhVU2mNJhr"
      }
    },
    {
      "cell_type": "code",
      "source": [
        "df.workclass.value_counts()/df.shape[0]*100"
      ],
      "metadata": {
        "colab": {
          "base_uri": "https://localhost:8080/"
        },
        "id": "nfPEA0bUMTus",
        "outputId": "46646adb-7556-4d8e-f363-2ee2d540a72d"
      },
      "execution_count": 35,
      "outputs": [
        {
          "output_type": "execute_result",
          "data": {
            "text/plain": [
              "Private             69.710009\n",
              "Self-emp-not-inc     7.795777\n",
              "Local-gov            6.396442\n",
              "?                    5.564796\n",
              "State-gov            4.038907\n",
              "Self-emp-inc         3.445907\n",
              "Federal-gov          2.972230\n",
              "Without-pay          0.050622\n",
              "Never-worked         0.025311\n",
              "Name: workclass, dtype: float64"
            ]
          },
          "metadata": {},
          "execution_count": 35
        }
      ]
    },
    {
      "cell_type": "markdown",
      "source": [
        "Primero vamos a remplazar los trabajo que figuran ? por 'Sin Informacion', no los eliminaria del dataset ya que representan el 5,5% de la información. Por lo tanto vamos a remplazar los valores ? por 'Sin informacion'"
      ],
      "metadata": {
        "id": "j7KJNdw7OVNv"
      }
    },
    {
      "cell_type": "code",
      "source": [
        "df['workclass'] = df['workclass'].apply(lambda x: 'Sin informacion' if x==\"?\" else x)"
      ],
      "metadata": {
        "id": "BncwBXgSUX-M"
      },
      "execution_count": 36,
      "outputs": []
    },
    {
      "cell_type": "markdown",
      "source": [
        "A esta feature le haria un OHE para poder pasar al modo numerico. Al final del analisis de todas las feaures vamos realizar un funciona y hacer el OHE a todas las feature que lo requieran juntas."
      ],
      "metadata": {
        "id": "2VCjkKy1h0kG"
      }
    },
    {
      "cell_type": "markdown",
      "source": [
        "Analizamos la feature **education**"
      ],
      "metadata": {
        "id": "4FGqSvVpiLDC"
      }
    },
    {
      "cell_type": "markdown",
      "source": [
        "Vamos a verificar la correlación entre la feature **education** y la feature **education.num**"
      ],
      "metadata": {
        "id": "KhywE8-ijogP"
      }
    },
    {
      "cell_type": "code",
      "source": [
        "df.groupby('education') ['education.num'].value_counts()"
      ],
      "metadata": {
        "colab": {
          "base_uri": "https://localhost:8080/"
        },
        "id": "-r4OdAWniYqw",
        "outputId": "88f5c641-988c-4a1e-8cd9-b9aa9b114999"
      },
      "execution_count": 37,
      "outputs": [
        {
          "output_type": "execute_result",
          "data": {
            "text/plain": [
              "education     education.num\n",
              "10th          6                 794\n",
              "11th          7                 982\n",
              "12th          8                 365\n",
              "1st-4th       2                 139\n",
              "5th-6th       3                 275\n",
              "7th-8th       4                 535\n",
              "9th           5                 429\n",
              "Assoc-acdm    12                886\n",
              "Assoc-voc     11               1147\n",
              "Bachelors     13               4583\n",
              "Doctorate     16                352\n",
              "HS-grad       9                8934\n",
              "Masters       14               1474\n",
              "Preschool     1                  43\n",
              "Prof-school   15                495\n",
              "Some-college  10               6223\n",
              "Name: education.num, dtype: int64"
            ]
          },
          "metadata": {},
          "execution_count": 37
        }
      ]
    },
    {
      "cell_type": "markdown",
      "source": [
        "Como se observa **education.num** es una codificación y con orden de nivel de estudio de la feature **education** por lo tanto podremos eliminar esta columna del dataset a analizar."
      ],
      "metadata": {
        "id": "aOTeBAp8j2aF"
      }
    },
    {
      "cell_type": "markdown",
      "source": [
        "Continuamos con la feature **marital.status**"
      ],
      "metadata": {
        "id": "V3bFHwG_kPWY"
      }
    },
    {
      "cell_type": "code",
      "source": [
        "df['marital.status'].value_counts()"
      ],
      "metadata": {
        "colab": {
          "base_uri": "https://localhost:8080/"
        },
        "id": "J88XaN5BjLLD",
        "outputId": "7dad7fc7-fbe4-4c54-b361-36e4b0a28bd3"
      },
      "execution_count": 38,
      "outputs": [
        {
          "output_type": "execute_result",
          "data": {
            "text/plain": [
              "Married-civ-spouse       12720\n",
              "Never-married             9065\n",
              "Divorced                  3770\n",
              "Widowed                    857\n",
              "Separated                  857\n",
              "Married-spouse-absent      366\n",
              "Married-AF-spouse           21\n",
              "Name: marital.status, dtype: int64"
            ]
          },
          "metadata": {},
          "execution_count": 38
        }
      ]
    },
    {
      "cell_type": "markdown",
      "source": [
        "En esta feature vamos a aplicar la codificación OHE y de esta forma tendremos una sola columna que representará l a feature"
      ],
      "metadata": {
        "id": "-gPTnA-GloCf"
      }
    },
    {
      "cell_type": "markdown",
      "source": [
        "Analizaremos la siguiente feature categorica **ocupation**"
      ],
      "metadata": {
        "id": "f4rkXJtLmGBe"
      }
    },
    {
      "cell_type": "code",
      "source": [
        "df.occupation.value_counts()/df.shape[0]*100"
      ],
      "metadata": {
        "colab": {
          "base_uri": "https://localhost:8080/"
        },
        "id": "BafXJi7pkqS4",
        "outputId": "15c4f6c8-fccb-4fc4-8a9b-b0daeca416b4"
      },
      "execution_count": 39,
      "outputs": [
        {
          "output_type": "execute_result",
          "data": {
            "text/plain": [
              "Prof-specialty       12.796500\n",
              "Craft-repair         12.688024\n",
              "Exec-managerial      12.474689\n",
              "Adm-clerical         11.704513\n",
              "Sales                11.082586\n",
              "Other-service        10.030373\n",
              "Machine-op-inspct     6.118021\n",
              "?                     5.590107\n",
              "Transport-moving      4.982644\n",
              "Handlers-cleaners     4.201620\n",
              "Farming-fishing       3.084322\n",
              "Tech-support          2.773358\n",
              "Protective-serv       2.014030\n",
              "Priv-house-serv       0.433902\n",
              "Armed-Forces          0.025311\n",
              "Name: occupation, dtype: float64"
            ]
          },
          "metadata": {},
          "execution_count": 39
        }
      ]
    },
    {
      "cell_type": "markdown",
      "source": [
        "Vamos a remplazar los valores ? por 'Sin Informacion'"
      ],
      "metadata": {
        "id": "Hzgpp3kuoDRQ"
      }
    },
    {
      "cell_type": "code",
      "source": [
        "df['occupation'] = df['occupation'].apply(lambda x: 'Sin informacion' if x=='?' else x)"
      ],
      "metadata": {
        "id": "OPOOOzJ0mXmD"
      },
      "execution_count": 40,
      "outputs": []
    },
    {
      "cell_type": "code",
      "source": [
        "df.occupation.nunique()"
      ],
      "metadata": {
        "colab": {
          "base_uri": "https://localhost:8080/"
        },
        "id": "hdr1mqqiorXR",
        "outputId": "28c8f18b-ae1b-45fd-817e-1678a2f51311"
      },
      "execution_count": 41,
      "outputs": [
        {
          "output_type": "execute_result",
          "data": {
            "text/plain": [
              "15"
            ]
          },
          "metadata": {},
          "execution_count": 41
        }
      ]
    },
    {
      "cell_type": "markdown",
      "source": [
        "En esta feature tambien vamos a tener que realizar un OHE para codificar dicha feature"
      ],
      "metadata": {
        "id": "ztY5ztlBo9Q1"
      }
    },
    {
      "cell_type": "markdown",
      "source": [
        "Segimos analizando la feature **realtioship**"
      ],
      "metadata": {
        "id": "Vrqj-AI4pOIO"
      }
    },
    {
      "cell_type": "code",
      "source": [
        "df.relationship.value_counts()"
      ],
      "metadata": {
        "colab": {
          "base_uri": "https://localhost:8080/"
        },
        "id": "cdSnR9i0oxlR",
        "outputId": "93086bb6-0532-445d-dbf0-408cbd93f056"
      },
      "execution_count": 42,
      "outputs": [
        {
          "output_type": "execute_result",
          "data": {
            "text/plain": [
              "Husband           11208\n",
              "Not-in-family      7001\n",
              "Own-child          4333\n",
              "Unmarried          2944\n",
              "Wife               1333\n",
              "Other-relative      837\n",
              "Name: relationship, dtype: int64"
            ]
          },
          "metadata": {},
          "execution_count": 42
        }
      ]
    },
    {
      "cell_type": "code",
      "source": [
        "df.relationship.nunique()"
      ],
      "metadata": {
        "colab": {
          "base_uri": "https://localhost:8080/"
        },
        "id": "JhIDDRfrpdo6",
        "outputId": "a311d5e0-d0d5-41aa-bd9e-992a220a76a5"
      },
      "execution_count": 43,
      "outputs": [
        {
          "output_type": "execute_result",
          "data": {
            "text/plain": [
              "6"
            ]
          },
          "metadata": {},
          "execution_count": 43
        }
      ]
    },
    {
      "cell_type": "markdown",
      "source": [
        "Esta feature tambien la codificaremos con un OHE."
      ],
      "metadata": {
        "id": "izUpV1wdp1l2"
      }
    },
    {
      "cell_type": "markdown",
      "source": [
        "Continuamos con el analisis de la feature **race**"
      ],
      "metadata": {
        "id": "7T9C_wegAluX"
      }
    },
    {
      "cell_type": "code",
      "source": [
        "df['race'].value_counts()"
      ],
      "metadata": {
        "colab": {
          "base_uri": "https://localhost:8080/"
        },
        "id": "TOz7UrYIwkzL",
        "outputId": "538e1bc8-292e-4648-ba5e-445d352d525a"
      },
      "execution_count": 44,
      "outputs": [
        {
          "output_type": "execute_result",
          "data": {
            "text/plain": [
              "White                 23621\n",
              "Black                  2649\n",
              "Asian-Pac-Islander      886\n",
              "Amer-Indian-Eskimo      263\n",
              "Other                   237\n",
              "Name: race, dtype: int64"
            ]
          },
          "metadata": {},
          "execution_count": 44
        }
      ]
    },
    {
      "cell_type": "markdown",
      "source": [
        "Esta feature sera codificada tambien con un OHE"
      ],
      "metadata": {
        "id": "PW7DyU72A1x3"
      }
    },
    {
      "cell_type": "markdown",
      "source": [
        "Observamos la feature **sex**"
      ],
      "metadata": {
        "id": "VloBg7SoA9iv"
      }
    },
    {
      "cell_type": "code",
      "source": [
        "df.sex.value_counts()"
      ],
      "metadata": {
        "colab": {
          "base_uri": "https://localhost:8080/"
        },
        "id": "ozWGY_UawpRA",
        "outputId": "bf72608b-882d-44f4-ed08-7143d597f7d9"
      },
      "execution_count": 45,
      "outputs": [
        {
          "output_type": "execute_result",
          "data": {
            "text/plain": [
              "Male      18521\n",
              "Female     9135\n",
              "Name: sex, dtype: int64"
            ]
          },
          "metadata": {},
          "execution_count": 45
        }
      ]
    },
    {
      "cell_type": "markdown",
      "source": [
        "Tambien haremos un OHE de esta feaure"
      ],
      "metadata": {
        "id": "07SCE_28BSs_"
      }
    },
    {
      "cell_type": "markdown",
      "source": [
        "Por ultimo analizamos la feature categorica **native.country**"
      ],
      "metadata": {
        "id": "7SbBfzIzBXBJ"
      }
    },
    {
      "cell_type": "code",
      "source": [
        "df['native.country'].unique()"
      ],
      "metadata": {
        "colab": {
          "base_uri": "https://localhost:8080/"
        },
        "id": "hwKkSKf7BOmA",
        "outputId": "0ee69332-3720-4f5a-f34b-a0f95cb1baeb"
      },
      "execution_count": 46,
      "outputs": [
        {
          "output_type": "execute_result",
          "data": {
            "text/plain": [
              "array(['United-States', '?', 'Jamaica', 'India', 'Mexico', 'Philippines',\n",
              "       'Dominican-Republic', 'El-Salvador', 'China', 'Thailand',\n",
              "       'Ireland', 'Laos', 'Iran', 'France', 'Guatemala', 'South',\n",
              "       'Puerto-Rico', 'Japan', 'Portugal', 'Greece', 'Canada', 'Poland',\n",
              "       'Peru', 'Cuba', 'Columbia', 'Germany', 'Italy', 'Hong', 'Haiti',\n",
              "       'Ecuador', 'England', 'Nicaragua', 'Cambodia', 'Trinadad&Tobago',\n",
              "       'Vietnam', 'Honduras', 'Taiwan', 'Scotland', 'Yugoslavia',\n",
              "       'Hungary', 'Outlying-US(Guam-USVI-etc)', 'Holand-Netherlands'],\n",
              "      dtype=object)"
            ]
          },
          "metadata": {},
          "execution_count": 46
        }
      ]
    },
    {
      "cell_type": "markdown",
      "source": [
        "Vamos a imputar los valores '?' con 'Sin informacion'"
      ],
      "metadata": {
        "id": "Sq4ZPYLeB-9d"
      }
    },
    {
      "cell_type": "code",
      "source": [
        "df['native.country']= df['native.country'].apply(lambda x: 'Sin informacion' if x=='?' else x)"
      ],
      "metadata": {
        "id": "s9LNrTWjB0dy"
      },
      "execution_count": 47,
      "outputs": []
    },
    {
      "cell_type": "markdown",
      "source": [
        "En esta feature tambien ralizaremos un OHE."
      ],
      "metadata": {
        "id": "omw7vWqiCmTa"
      }
    },
    {
      "cell_type": "markdown",
      "source": [
        "# Vamos a realizar un OHE en todas las feature categoricas"
      ],
      "metadata": {
        "id": "1tDQ3aH3Fkis"
      }
    },
    {
      "cell_type": "markdown",
      "source": [
        "Como primer medida aplicamos el OHE en las feature categoricas antes de hacer train-test-split ya que no afecta el resultado hacerlo una sola vez antes de dividir los grupos o hacer el train y test.\n",
        "Finalmente entonces eliminamos la columna education ya que esta codificado en la columna eduction.num y el resto de las columnas se realizara un One Hot Encoding; excepto la feature target 'Income'"
      ],
      "metadata": {
        "id": "udVmTcjeEjpF"
      }
    },
    {
      "cell_type": "code",
      "source": [
        "df.head()"
      ],
      "metadata": {
        "id": "HhfLfbGL1ts6",
        "colab": {
          "base_uri": "https://localhost:8080/",
          "height": 206
        },
        "outputId": "8b036f32-528b-48c4-bf88-97996f07b502"
      },
      "execution_count": 48,
      "outputs": [
        {
          "output_type": "execute_result",
          "data": {
            "text/plain": [
              "   index  age  workclass  education  education.num      marital.status  \\\n",
              "0  24466   30  Local-gov    HS-grad              9            Divorced   \n",
              "1    985   37    Private  Bachelors             13  Married-civ-spouse   \n",
              "2  30250   41    Private    HS-grad              9  Married-civ-spouse   \n",
              "3   7107   45    Private  Bachelors             13  Married-civ-spouse   \n",
              "4  27656   28    Private    HS-grad              9       Never-married   \n",
              "\n",
              "        occupation   relationship   race     sex  capital.gain  capital.loss  \\\n",
              "0  Protective-serv      Own-child  White  Female             0             0   \n",
              "1  Exec-managerial           Wife  White  Female             0          1848   \n",
              "2     Craft-repair        Husband  White    Male             0             0   \n",
              "3   Prof-specialty        Husband  White    Male             0             0   \n",
              "4  Exec-managerial  Not-in-family  White  Female             0             0   \n",
              "\n",
              "   hours.per.week native.country income     ID  \n",
              "0              32  United-States  <=50K  24451  \n",
              "1              40  United-States   >50K    985  \n",
              "2              60  United-States   >50K  30229  \n",
              "3              60  United-States   >50K   7107  \n",
              "4              40  United-States  <=50K  27639  "
            ],
            "text/html": [
              "\n",
              "  <div id=\"df-0d5a4a22-9e41-4b76-91b1-92b00d6e89cd\">\n",
              "    <div class=\"colab-df-container\">\n",
              "      <div>\n",
              "<style scoped>\n",
              "    .dataframe tbody tr th:only-of-type {\n",
              "        vertical-align: middle;\n",
              "    }\n",
              "\n",
              "    .dataframe tbody tr th {\n",
              "        vertical-align: top;\n",
              "    }\n",
              "\n",
              "    .dataframe thead th {\n",
              "        text-align: right;\n",
              "    }\n",
              "</style>\n",
              "<table border=\"1\" class=\"dataframe\">\n",
              "  <thead>\n",
              "    <tr style=\"text-align: right;\">\n",
              "      <th></th>\n",
              "      <th>index</th>\n",
              "      <th>age</th>\n",
              "      <th>workclass</th>\n",
              "      <th>education</th>\n",
              "      <th>education.num</th>\n",
              "      <th>marital.status</th>\n",
              "      <th>occupation</th>\n",
              "      <th>relationship</th>\n",
              "      <th>race</th>\n",
              "      <th>sex</th>\n",
              "      <th>capital.gain</th>\n",
              "      <th>capital.loss</th>\n",
              "      <th>hours.per.week</th>\n",
              "      <th>native.country</th>\n",
              "      <th>income</th>\n",
              "      <th>ID</th>\n",
              "    </tr>\n",
              "  </thead>\n",
              "  <tbody>\n",
              "    <tr>\n",
              "      <th>0</th>\n",
              "      <td>24466</td>\n",
              "      <td>30</td>\n",
              "      <td>Local-gov</td>\n",
              "      <td>HS-grad</td>\n",
              "      <td>9</td>\n",
              "      <td>Divorced</td>\n",
              "      <td>Protective-serv</td>\n",
              "      <td>Own-child</td>\n",
              "      <td>White</td>\n",
              "      <td>Female</td>\n",
              "      <td>0</td>\n",
              "      <td>0</td>\n",
              "      <td>32</td>\n",
              "      <td>United-States</td>\n",
              "      <td>&lt;=50K</td>\n",
              "      <td>24451</td>\n",
              "    </tr>\n",
              "    <tr>\n",
              "      <th>1</th>\n",
              "      <td>985</td>\n",
              "      <td>37</td>\n",
              "      <td>Private</td>\n",
              "      <td>Bachelors</td>\n",
              "      <td>13</td>\n",
              "      <td>Married-civ-spouse</td>\n",
              "      <td>Exec-managerial</td>\n",
              "      <td>Wife</td>\n",
              "      <td>White</td>\n",
              "      <td>Female</td>\n",
              "      <td>0</td>\n",
              "      <td>1848</td>\n",
              "      <td>40</td>\n",
              "      <td>United-States</td>\n",
              "      <td>&gt;50K</td>\n",
              "      <td>985</td>\n",
              "    </tr>\n",
              "    <tr>\n",
              "      <th>2</th>\n",
              "      <td>30250</td>\n",
              "      <td>41</td>\n",
              "      <td>Private</td>\n",
              "      <td>HS-grad</td>\n",
              "      <td>9</td>\n",
              "      <td>Married-civ-spouse</td>\n",
              "      <td>Craft-repair</td>\n",
              "      <td>Husband</td>\n",
              "      <td>White</td>\n",
              "      <td>Male</td>\n",
              "      <td>0</td>\n",
              "      <td>0</td>\n",
              "      <td>60</td>\n",
              "      <td>United-States</td>\n",
              "      <td>&gt;50K</td>\n",
              "      <td>30229</td>\n",
              "    </tr>\n",
              "    <tr>\n",
              "      <th>3</th>\n",
              "      <td>7107</td>\n",
              "      <td>45</td>\n",
              "      <td>Private</td>\n",
              "      <td>Bachelors</td>\n",
              "      <td>13</td>\n",
              "      <td>Married-civ-spouse</td>\n",
              "      <td>Prof-specialty</td>\n",
              "      <td>Husband</td>\n",
              "      <td>White</td>\n",
              "      <td>Male</td>\n",
              "      <td>0</td>\n",
              "      <td>0</td>\n",
              "      <td>60</td>\n",
              "      <td>United-States</td>\n",
              "      <td>&gt;50K</td>\n",
              "      <td>7107</td>\n",
              "    </tr>\n",
              "    <tr>\n",
              "      <th>4</th>\n",
              "      <td>27656</td>\n",
              "      <td>28</td>\n",
              "      <td>Private</td>\n",
              "      <td>HS-grad</td>\n",
              "      <td>9</td>\n",
              "      <td>Never-married</td>\n",
              "      <td>Exec-managerial</td>\n",
              "      <td>Not-in-family</td>\n",
              "      <td>White</td>\n",
              "      <td>Female</td>\n",
              "      <td>0</td>\n",
              "      <td>0</td>\n",
              "      <td>40</td>\n",
              "      <td>United-States</td>\n",
              "      <td>&lt;=50K</td>\n",
              "      <td>27639</td>\n",
              "    </tr>\n",
              "  </tbody>\n",
              "</table>\n",
              "</div>\n",
              "      <button class=\"colab-df-convert\" onclick=\"convertToInteractive('df-0d5a4a22-9e41-4b76-91b1-92b00d6e89cd')\"\n",
              "              title=\"Convert this dataframe to an interactive table.\"\n",
              "              style=\"display:none;\">\n",
              "        \n",
              "  <svg xmlns=\"http://www.w3.org/2000/svg\" height=\"24px\"viewBox=\"0 0 24 24\"\n",
              "       width=\"24px\">\n",
              "    <path d=\"M0 0h24v24H0V0z\" fill=\"none\"/>\n",
              "    <path d=\"M18.56 5.44l.94 2.06.94-2.06 2.06-.94-2.06-.94-.94-2.06-.94 2.06-2.06.94zm-11 1L8.5 8.5l.94-2.06 2.06-.94-2.06-.94L8.5 2.5l-.94 2.06-2.06.94zm10 10l.94 2.06.94-2.06 2.06-.94-2.06-.94-.94-2.06-.94 2.06-2.06.94z\"/><path d=\"M17.41 7.96l-1.37-1.37c-.4-.4-.92-.59-1.43-.59-.52 0-1.04.2-1.43.59L10.3 9.45l-7.72 7.72c-.78.78-.78 2.05 0 2.83L4 21.41c.39.39.9.59 1.41.59.51 0 1.02-.2 1.41-.59l7.78-7.78 2.81-2.81c.8-.78.8-2.07 0-2.86zM5.41 20L4 18.59l7.72-7.72 1.47 1.35L5.41 20z\"/>\n",
              "  </svg>\n",
              "      </button>\n",
              "      \n",
              "  <style>\n",
              "    .colab-df-container {\n",
              "      display:flex;\n",
              "      flex-wrap:wrap;\n",
              "      gap: 12px;\n",
              "    }\n",
              "\n",
              "    .colab-df-convert {\n",
              "      background-color: #E8F0FE;\n",
              "      border: none;\n",
              "      border-radius: 50%;\n",
              "      cursor: pointer;\n",
              "      display: none;\n",
              "      fill: #1967D2;\n",
              "      height: 32px;\n",
              "      padding: 0 0 0 0;\n",
              "      width: 32px;\n",
              "    }\n",
              "\n",
              "    .colab-df-convert:hover {\n",
              "      background-color: #E2EBFA;\n",
              "      box-shadow: 0px 1px 2px rgba(60, 64, 67, 0.3), 0px 1px 3px 1px rgba(60, 64, 67, 0.15);\n",
              "      fill: #174EA6;\n",
              "    }\n",
              "\n",
              "    [theme=dark] .colab-df-convert {\n",
              "      background-color: #3B4455;\n",
              "      fill: #D2E3FC;\n",
              "    }\n",
              "\n",
              "    [theme=dark] .colab-df-convert:hover {\n",
              "      background-color: #434B5C;\n",
              "      box-shadow: 0px 1px 3px 1px rgba(0, 0, 0, 0.15);\n",
              "      filter: drop-shadow(0px 1px 2px rgba(0, 0, 0, 0.3));\n",
              "      fill: #FFFFFF;\n",
              "    }\n",
              "  </style>\n",
              "\n",
              "      <script>\n",
              "        const buttonEl =\n",
              "          document.querySelector('#df-0d5a4a22-9e41-4b76-91b1-92b00d6e89cd button.colab-df-convert');\n",
              "        buttonEl.style.display =\n",
              "          google.colab.kernel.accessAllowed ? 'block' : 'none';\n",
              "\n",
              "        async function convertToInteractive(key) {\n",
              "          const element = document.querySelector('#df-0d5a4a22-9e41-4b76-91b1-92b00d6e89cd');\n",
              "          const dataTable =\n",
              "            await google.colab.kernel.invokeFunction('convertToInteractive',\n",
              "                                                     [key], {});\n",
              "          if (!dataTable) return;\n",
              "\n",
              "          const docLinkHtml = 'Like what you see? Visit the ' +\n",
              "            '<a target=\"_blank\" href=https://colab.research.google.com/notebooks/data_table.ipynb>data table notebook</a>'\n",
              "            + ' to learn more about interactive tables.';\n",
              "          element.innerHTML = '';\n",
              "          dataTable['output_type'] = 'display_data';\n",
              "          await google.colab.output.renderOutput(dataTable, element);\n",
              "          const docLink = document.createElement('div');\n",
              "          docLink.innerHTML = docLinkHtml;\n",
              "          element.appendChild(docLink);\n",
              "        }\n",
              "      </script>\n",
              "    </div>\n",
              "  </div>\n",
              "  "
            ]
          },
          "metadata": {},
          "execution_count": 48
        }
      ]
    },
    {
      "cell_type": "code",
      "source": [
        "df = pd.read_csv('/content/drive/MyDrive/Curso Data Science - Icaro/Unidad 2/Entrega Sprint 1/train_nuevo.csv')"
      ],
      "metadata": {
        "id": "rwayKuP6-DOB"
      },
      "execution_count": 49,
      "outputs": []
    },
    {
      "cell_type": "code",
      "source": [
        "df.shape"
      ],
      "metadata": {
        "colab": {
          "base_uri": "https://localhost:8080/"
        },
        "id": "ymIULvVCK2ZO",
        "outputId": "02e7b682-0dd8-408d-aead-95cfd7dc580f"
      },
      "execution_count": 50,
      "outputs": [
        {
          "output_type": "execute_result",
          "data": {
            "text/plain": [
              "(27656, 16)"
            ]
          },
          "metadata": {},
          "execution_count": 50
        }
      ]
    },
    {
      "cell_type": "code",
      "source": [
        "df_eda=df"
      ],
      "metadata": {
        "id": "nUMKV0gVpfDt"
      },
      "execution_count": 51,
      "outputs": []
    },
    {
      "cell_type": "code",
      "source": [
        "df_eda['income'] = df_eda['income'].apply(lambda x: 1 if x=='>50K' else 0)"
      ],
      "metadata": {
        "id": "u4UIcJZEpktN"
      },
      "execution_count": 52,
      "outputs": []
    },
    {
      "cell_type": "code",
      "source": [
        "df_eda['income'].value_counts()"
      ],
      "metadata": {
        "colab": {
          "base_uri": "https://localhost:8080/"
        },
        "id": "pk1BZuDJNeYH",
        "outputId": "78887b27-d176-42e4-a086-93781428b0c2"
      },
      "execution_count": 53,
      "outputs": [
        {
          "output_type": "execute_result",
          "data": {
            "text/plain": [
              "0    20953\n",
              "1     6703\n",
              "Name: income, dtype: int64"
            ]
          },
          "metadata": {},
          "execution_count": 53
        }
      ]
    },
    {
      "cell_type": "code",
      "source": [
        "df_eda.drop(['index','education','ID','native.country'], axis=1, inplace=True)"
      ],
      "metadata": {
        "id": "xFoCdhWGpr1E"
      },
      "execution_count": 54,
      "outputs": []
    },
    {
      "cell_type": "code",
      "source": [
        "from sklearn.pipeline import Pipeline, FeatureUnion, make_pipeline, make_union\n",
        "from sklearn.base import BaseEstimator, TransformerMixin"
      ],
      "metadata": {
        "id": "piXdM4cKkokl"
      },
      "execution_count": 55,
      "outputs": []
    },
    {
      "cell_type": "code",
      "source": [
        "class SelectColumns(BaseEstimator, TransformerMixin):\n",
        "    def __init__(self, names=None):\n",
        "        self.names = names\n",
        "\n",
        "    def fit(self, X, y=None, **fit_params):\n",
        "        return self\n",
        "\n",
        "    def transform(self, X):\n",
        "        return X[self.names]"
      ],
      "metadata": {
        "id": "eK3LN3SYkoWV"
      },
      "execution_count": 56,
      "outputs": []
    },
    {
      "cell_type": "code",
      "source": [
        "from sklearn.preprocessing import OneHotEncoder\n",
        "from sklearn.preprocessing import StandardScaler\n",
        "from sklearn.tree import DecisionTreeClassifier"
      ],
      "metadata": {
        "id": "o67_S1T6koHi"
      },
      "execution_count": 57,
      "outputs": []
    },
    {
      "cell_type": "code",
      "source": [
        "df_eda_cat = df_eda.select_dtypes('object')\n",
        "df_eda_num = df_eda.select_dtypes('number')\n",
        "df_eda_num = df_eda_num.drop(['income'],axis=1).copy()\n"
      ],
      "metadata": {
        "id": "AmS8VdFRmJ9t"
      },
      "execution_count": 58,
      "outputs": []
    },
    {
      "cell_type": "code",
      "source": [
        "cat_cols = df_eda_cat.columns\n",
        "num_cols = df_eda_num.columns"
      ],
      "metadata": {
        "id": "gSLPpGqmkn60"
      },
      "execution_count": 59,
      "outputs": []
    },
    {
      "cell_type": "code",
      "source": [
        "cat_cols,num_cols"
      ],
      "metadata": {
        "colab": {
          "base_uri": "https://localhost:8080/"
        },
        "id": "d7Ri4-VMunuY",
        "outputId": "255257f1-66dd-4058-9f70-00207465f3e3"
      },
      "execution_count": 60,
      "outputs": [
        {
          "output_type": "execute_result",
          "data": {
            "text/plain": [
              "(Index(['workclass', 'marital.status', 'occupation', 'relationship', 'race',\n",
              "        'sex'],\n",
              "       dtype='object'),\n",
              " Index(['age', 'education.num', 'capital.gain', 'capital.loss',\n",
              "        'hours.per.week'],\n",
              "       dtype='object'))"
            ]
          },
          "metadata": {},
          "execution_count": 60
        }
      ]
    },
    {
      "cell_type": "code",
      "source": [
        "pipe = Pipeline([\n",
        "    (\"features\", FeatureUnion([\n",
        "        ('numeric', make_pipeline(SelectColumns(names=num_cols), StandardScaler())),\n",
        "        ('categorical', make_pipeline(SelectColumns(names=cat_cols), OneHotEncoder(sparse=False, handle_unknown='ignore')))\n",
        "    ])),\n",
        "    ('model', DecisionTreeClassifier(random_state=0, max_depth=8))\n",
        "])"
      ],
      "metadata": {
        "id": "qCnsQMinknuY"
      },
      "execution_count": 61,
      "outputs": []
    },
    {
      "cell_type": "code",
      "source": [
        "df_eda.columns"
      ],
      "metadata": {
        "colab": {
          "base_uri": "https://localhost:8080/"
        },
        "id": "BkE3z1vvL7Ut",
        "outputId": "f0d1dd67-73ce-4b41-87fb-5fb988b55bba"
      },
      "execution_count": 62,
      "outputs": [
        {
          "output_type": "execute_result",
          "data": {
            "text/plain": [
              "Index(['age', 'workclass', 'education.num', 'marital.status', 'occupation',\n",
              "       'relationship', 'race', 'sex', 'capital.gain', 'capital.loss',\n",
              "       'hours.per.week', 'income'],\n",
              "      dtype='object')"
            ]
          },
          "metadata": {},
          "execution_count": 62
        }
      ]
    },
    {
      "cell_type": "code",
      "source": [
        "X = df_eda.drop('income',axis=1)\n",
        "y=df_eda['income']"
      ],
      "metadata": {
        "id": "xRDmFSFOrB5e"
      },
      "execution_count": 63,
      "outputs": []
    },
    {
      "cell_type": "code",
      "source": [
        "from sklearn.model_selection import train_test_split"
      ],
      "metadata": {
        "id": "YDHYKMlBk9s2"
      },
      "execution_count": 64,
      "outputs": []
    },
    {
      "cell_type": "code",
      "source": [
        "X_train, X_test, y_train, y_test = train_test_split(X, y, test_size=0.2, stratify=y, random_state=20) "
      ],
      "metadata": {
        "id": "RIfQCyFUk9gV"
      },
      "execution_count": 65,
      "outputs": []
    },
    {
      "cell_type": "code",
      "source": [
        "pipe.fit(X_train, y_train)"
      ],
      "metadata": {
        "colab": {
          "base_uri": "https://localhost:8080/"
        },
        "id": "9WW62Zopk9O8",
        "outputId": "706ff970-15ee-4e21-9918-e8f16230ba76"
      },
      "execution_count": 66,
      "outputs": [
        {
          "output_type": "execute_result",
          "data": {
            "text/plain": [
              "Pipeline(steps=[('features',\n",
              "                 FeatureUnion(transformer_list=[('numeric',\n",
              "                                                 Pipeline(steps=[('selectcolumns',\n",
              "                                                                  SelectColumns(names=Index(['age', 'education.num', 'capital.gain', 'capital.loss',\n",
              "       'hours.per.week'],\n",
              "      dtype='object'))),\n",
              "                                                                 ('standardscaler',\n",
              "                                                                  StandardScaler())])),\n",
              "                                                ('categorical',\n",
              "                                                 Pipeline(steps=[('selectcolumns',\n",
              "                                                                  SelectColumns(names=Index(['workclass', 'marital.status', 'occupation', 'relationship', 'race',\n",
              "       'sex'],\n",
              "      dtype='object'))),\n",
              "                                                                 ('onehotencoder',\n",
              "                                                                  OneHotEncoder(handle_unknown='ignore',\n",
              "                                                                                sparse=False))]))])),\n",
              "                ('model', DecisionTreeClassifier(max_depth=8, random_state=0))])"
            ]
          },
          "metadata": {},
          "execution_count": 66
        }
      ]
    },
    {
      "cell_type": "code",
      "source": [
        "train_preds = pipe.predict(X_train)\n",
        "test_preds = pipe.predict(X_test)"
      ],
      "metadata": {
        "id": "ZTS-tYxIlQBk"
      },
      "execution_count": 67,
      "outputs": []
    },
    {
      "cell_type": "code",
      "source": [
        "from sklearn.metrics._plot.confusion_matrix import plot_confusion_matrix\n",
        "pipe.fit(X_train,y_train)\n",
        "\n",
        "plot_confusion_matrix(pipe,X_test, y_test, values_format='.2f')"
      ],
      "metadata": {
        "colab": {
          "base_uri": "https://localhost:8080/",
          "height": 354
        },
        "id": "dbazNmevlP7c",
        "outputId": "f7f8a1af-c472-494a-ea10-1a1f44f060a5"
      },
      "execution_count": 68,
      "outputs": [
        {
          "output_type": "stream",
          "name": "stderr",
          "text": [
            "/usr/local/lib/python3.7/dist-packages/sklearn/utils/deprecation.py:87: FutureWarning: Function plot_confusion_matrix is deprecated; Function `plot_confusion_matrix` is deprecated in 1.0 and will be removed in 1.2. Use one of the class methods: ConfusionMatrixDisplay.from_predictions or ConfusionMatrixDisplay.from_estimator.\n",
            "  warnings.warn(msg, category=FutureWarning)\n"
          ]
        },
        {
          "output_type": "execute_result",
          "data": {
            "text/plain": [
              "<sklearn.metrics._plot.confusion_matrix.ConfusionMatrixDisplay at 0x7f0f22823610>"
            ]
          },
          "metadata": {},
          "execution_count": 68
        },
        {
          "output_type": "display_data",
          "data": {
            "text/plain": [
              "<Figure size 432x288 with 2 Axes>"
            ],
            "image/png": "[encoded data removed]"
          },
          "metadata": {}
        }
      ]
    },
    {
      "cell_type": "code",
      "source": [
        "from sklearn.metrics import classification_report\n",
        "print(classification_report(y_train, pipe.predict(X_train)))\n",
        "print(classification_report(y_test, pipe.predict(X_test)))"
      ],
      "metadata": {
        "colab": {
          "base_uri": "https://localhost:8080/"
        },
        "id": "3oC7wLe3lP2D",
        "outputId": "36144e01-bff4-4cca-a3df-30a1668a8ef6"
      },
      "execution_count": 69,
      "outputs": [
        {
          "output_type": "stream",
          "name": "stdout",
          "text": [
            "              precision    recall  f1-score   support\n",
            "\n",
            "           0       0.88      0.95      0.91     16762\n",
            "           1       0.78      0.60      0.68      5362\n",
            "\n",
            "    accuracy                           0.86     22124\n",
            "   macro avg       0.83      0.77      0.79     22124\n",
            "weighted avg       0.86      0.86      0.86     22124\n",
            "\n",
            "              precision    recall  f1-score   support\n",
            "\n",
            "           0       0.88      0.95      0.91      4191\n",
            "           1       0.78      0.58      0.67      1341\n",
            "\n",
            "    accuracy                           0.86      5532\n",
            "   macro avg       0.83      0.77      0.79      5532\n",
            "weighted avg       0.85      0.86      0.85      5532\n",
            "\n"
          ]
        }
      ]
    },
    {
      "cell_type": "code",
      "source": [
        "from sklearn.model_selection import cross_val_score\n",
        "pipe_scores = cross_val_score(pipe, X_train, y_train, cv=10)\n",
        "pipe_scores"
      ],
      "metadata": {
        "colab": {
          "base_uri": "https://localhost:8080/"
        },
        "id": "MDRlgJSdxpOO",
        "outputId": "6192d058-9c4c-417f-9802-d4fe860d6e55"
      },
      "execution_count": 70,
      "outputs": [
        {
          "output_type": "execute_result",
          "data": {
            "text/plain": [
              "array([0.85314053, 0.84862178, 0.85359241, 0.8463624 , 0.84403255,\n",
              "       0.84719711, 0.85940325, 0.86256781, 0.85533454, 0.85216998])"
            ]
          },
          "metadata": {},
          "execution_count": 70
        }
      ]
    },
    {
      "cell_type": "code",
      "source": [
        "pipe_scores.mean()"
      ],
      "metadata": {
        "colab": {
          "base_uri": "https://localhost:8080/"
        },
        "id": "DRElF69LxrPe",
        "outputId": "e44f8143-863b-4c4e-85d2-04dc067a41c7"
      },
      "execution_count": 71,
      "outputs": [
        {
          "output_type": "execute_result",
          "data": {
            "text/plain": [
              "0.852242237019617"
            ]
          },
          "metadata": {},
          "execution_count": 71
        }
      ]
    },
    {
      "cell_type": "markdown",
      "source": [
        "#Importamos el CSV de test"
      ],
      "metadata": {
        "id": "B3ntlcTxxA0e"
      }
    },
    {
      "cell_type": "code",
      "source": [
        "df_test = pd.read_csv('/content/drive/MyDrive/Curso Data Science - Icaro/Unidad 2/Entrega Sprint 1/test_nuevo.csv')"
      ],
      "metadata": {
        "id": "3rLtq0SNxEKM"
      },
      "execution_count": 72,
      "outputs": []
    },
    {
      "cell_type": "code",
      "source": [
        "df_test.head()"
      ],
      "metadata": {
        "colab": {
          "base_uri": "https://localhost:8080/",
          "height": 206
        },
        "id": "-F_Do9PDxp1Q",
        "outputId": "6db4dae1-7a74-462c-8e44-568e3d71b49b"
      },
      "execution_count": 73,
      "outputs": [
        {
          "output_type": "execute_result",
          "data": {
            "text/plain": [
              "   index  age     workclass     education  education.num      marital.status  \\\n",
              "0   3643   53       Private  Some-college             10  Married-civ-spouse   \n",
              "1  16041   18             ?          11th              7       Never-married   \n",
              "2   9403   42       Private  Some-college             10  Married-civ-spouse   \n",
              "3  17909   49  Self-emp-inc     Doctorate             16  Married-civ-spouse   \n",
              "4   5198   58     Local-gov     Bachelors             13  Married-civ-spouse   \n",
              "\n",
              "          occupation relationship   race     sex  capital.gain  capital.loss  \\\n",
              "0  Machine-op-inspct      Husband  White    Male          3137             0   \n",
              "1                  ?    Own-child  White    Male             0             0   \n",
              "2  Machine-op-inspct         Wife  White  Female             0             0   \n",
              "3     Prof-specialty      Husband  Black    Male             0             0   \n",
              "4     Prof-specialty         Wife  White  Female             0             0   \n",
              "\n",
              "   hours.per.week native.country     ID  \n",
              "0              40  United-States   3643  \n",
              "1              25  United-States  16036  \n",
              "2              37  United-States   9401  \n",
              "3              60  United-States  17903  \n",
              "4              40  United-States   5198  "
            ],
            "text/html": [
              "\n",
              "  <div id=\"df-93a14ea0-3f47-4318-93a8-a40503ba2980\">\n",
              "    <div class=\"colab-df-container\">\n",
              "      <div>\n",
              "<style scoped>\n",
              "    .dataframe tbody tr th:only-of-type {\n",
              "        vertical-align: middle;\n",
              "    }\n",
              "\n",
              "    .dataframe tbody tr th {\n",
              "        vertical-align: top;\n",
              "    }\n",
              "\n",
              "    .dataframe thead th {\n",
              "        text-align: right;\n",
              "    }\n",
              "</style>\n",
              "<table border=\"1\" class=\"dataframe\">\n",
              "  <thead>\n",
              "    <tr style=\"text-align: right;\">\n",
              "      <th></th>\n",
              "      <th>index</th>\n",
              "      <th>age</th>\n",
              "      <th>workclass</th>\n",
              "      <th>education</th>\n",
              "      <th>education.num</th>\n",
              "      <th>marital.status</th>\n",
              "      <th>occupation</th>\n",
              "      <th>relationship</th>\n",
              "      <th>race</th>\n",
              "      <th>sex</th>\n",
              "      <th>capital.gain</th>\n",
              "      <th>capital.loss</th>\n",
              "      <th>hours.per.week</th>\n",
              "      <th>native.country</th>\n",
              "      <th>ID</th>\n",
              "    </tr>\n",
              "  </thead>\n",
              "  <tbody>\n",
              "    <tr>\n",
              "      <th>0</th>\n",
              "      <td>3643</td>\n",
              "      <td>53</td>\n",
              "      <td>Private</td>\n",
              "      <td>Some-college</td>\n",
              "      <td>10</td>\n",
              "      <td>Married-civ-spouse</td>\n",
              "      <td>Machine-op-inspct</td>\n",
              "      <td>Husband</td>\n",
              "      <td>White</td>\n",
              "      <td>Male</td>\n",
              "      <td>3137</td>\n",
              "      <td>0</td>\n",
              "      <td>40</td>\n",
              "      <td>United-States</td>\n",
              "      <td>3643</td>\n",
              "    </tr>\n",
              "    <tr>\n",
              "      <th>1</th>\n",
              "      <td>16041</td>\n",
              "      <td>18</td>\n",
              "      <td>?</td>\n",
              "      <td>11th</td>\n",
              "      <td>7</td>\n",
              "      <td>Never-married</td>\n",
              "      <td>?</td>\n",
              "      <td>Own-child</td>\n",
              "      <td>White</td>\n",
              "      <td>Male</td>\n",
              "      <td>0</td>\n",
              "      <td>0</td>\n",
              "      <td>25</td>\n",
              "      <td>United-States</td>\n",
              "      <td>16036</td>\n",
              "    </tr>\n",
              "    <tr>\n",
              "      <th>2</th>\n",
              "      <td>9403</td>\n",
              "      <td>42</td>\n",
              "      <td>Private</td>\n",
              "      <td>Some-college</td>\n",
              "      <td>10</td>\n",
              "      <td>Married-civ-spouse</td>\n",
              "      <td>Machine-op-inspct</td>\n",
              "      <td>Wife</td>\n",
              "      <td>White</td>\n",
              "      <td>Female</td>\n",
              "      <td>0</td>\n",
              "      <td>0</td>\n",
              "      <td>37</td>\n",
              "      <td>United-States</td>\n",
              "      <td>9401</td>\n",
              "    </tr>\n",
              "    <tr>\n",
              "      <th>3</th>\n",
              "      <td>17909</td>\n",
              "      <td>49</td>\n",
              "      <td>Self-emp-inc</td>\n",
              "      <td>Doctorate</td>\n",
              "      <td>16</td>\n",
              "      <td>Married-civ-spouse</td>\n",
              "      <td>Prof-specialty</td>\n",
              "      <td>Husband</td>\n",
              "      <td>Black</td>\n",
              "      <td>Male</td>\n",
              "      <td>0</td>\n",
              "      <td>0</td>\n",
              "      <td>60</td>\n",
              "      <td>United-States</td>\n",
              "      <td>17903</td>\n",
              "    </tr>\n",
              "    <tr>\n",
              "      <th>4</th>\n",
              "      <td>5198</td>\n",
              "      <td>58</td>\n",
              "      <td>Local-gov</td>\n",
              "      <td>Bachelors</td>\n",
              "      <td>13</td>\n",
              "      <td>Married-civ-spouse</td>\n",
              "      <td>Prof-specialty</td>\n",
              "      <td>Wife</td>\n",
              "      <td>White</td>\n",
              "      <td>Female</td>\n",
              "      <td>0</td>\n",
              "      <td>0</td>\n",
              "      <td>40</td>\n",
              "      <td>United-States</td>\n",
              "      <td>5198</td>\n",
              "    </tr>\n",
              "  </tbody>\n",
              "</table>\n",
              "</div>\n",
              "      <button class=\"colab-df-convert\" onclick=\"convertToInteractive('df-93a14ea0-3f47-4318-93a8-a40503ba2980')\"\n",
              "              title=\"Convert this dataframe to an interactive table.\"\n",
              "              style=\"display:none;\">\n",
              "        \n",
              "  <svg xmlns=\"http://www.w3.org/2000/svg\" height=\"24px\"viewBox=\"0 0 24 24\"\n",
              "       width=\"24px\">\n",
              "    <path d=\"M0 0h24v24H0V0z\" fill=\"none\"/>\n",
              "    <path d=\"M18.56 5.44l.94 2.06.94-2.06 2.06-.94-2.06-.94-.94-2.06-.94 2.06-2.06.94zm-11 1L8.5 8.5l.94-2.06 2.06-.94-2.06-.94L8.5 2.5l-.94 2.06-2.06.94zm10 10l.94 2.06.94-2.06 2.06-.94-2.06-.94-.94-2.06-.94 2.06-2.06.94z\"/><path d=\"M17.41 7.96l-1.37-1.37c-.4-.4-.92-.59-1.43-.59-.52 0-1.04.2-1.43.59L10.3 9.45l-7.72 7.72c-.78.78-.78 2.05 0 2.83L4 21.41c.39.39.9.59 1.41.59.51 0 1.02-.2 1.41-.59l7.78-7.78 2.81-2.81c.8-.78.8-2.07 0-2.86zM5.41 20L4 18.59l7.72-7.72 1.47 1.35L5.41 20z\"/>\n",
              "  </svg>\n",
              "      </button>\n",
              "      \n",
              "  <style>\n",
              "    .colab-df-container {\n",
              "      display:flex;\n",
              "      flex-wrap:wrap;\n",
              "      gap: 12px;\n",
              "    }\n",
              "\n",
              "    .colab-df-convert {\n",
              "      background-color: #E8F0FE;\n",
              "      border: none;\n",
              "      border-radius: 50%;\n",
              "      cursor: pointer;\n",
              "      display: none;\n",
              "      fill: #1967D2;\n",
              "      height: 32px;\n",
              "      padding: 0 0 0 0;\n",
              "      width: 32px;\n",
              "    }\n",
              "\n",
              "    .colab-df-convert:hover {\n",
              "      background-color: #E2EBFA;\n",
              "      box-shadow: 0px 1px 2px rgba(60, 64, 67, 0.3), 0px 1px 3px 1px rgba(60, 64, 67, 0.15);\n",
              "      fill: #174EA6;\n",
              "    }\n",
              "\n",
              "    [theme=dark] .colab-df-convert {\n",
              "      background-color: #3B4455;\n",
              "      fill: #D2E3FC;\n",
              "    }\n",
              "\n",
              "    [theme=dark] .colab-df-convert:hover {\n",
              "      background-color: #434B5C;\n",
              "      box-shadow: 0px 1px 3px 1px rgba(0, 0, 0, 0.15);\n",
              "      filter: drop-shadow(0px 1px 2px rgba(0, 0, 0, 0.3));\n",
              "      fill: #FFFFFF;\n",
              "    }\n",
              "  </style>\n",
              "\n",
              "      <script>\n",
              "        const buttonEl =\n",
              "          document.querySelector('#df-93a14ea0-3f47-4318-93a8-a40503ba2980 button.colab-df-convert');\n",
              "        buttonEl.style.display =\n",
              "          google.colab.kernel.accessAllowed ? 'block' : 'none';\n",
              "\n",
              "        async function convertToInteractive(key) {\n",
              "          const element = document.querySelector('#df-93a14ea0-3f47-4318-93a8-a40503ba2980');\n",
              "          const dataTable =\n",
              "            await google.colab.kernel.invokeFunction('convertToInteractive',\n",
              "                                                     [key], {});\n",
              "          if (!dataTable) return;\n",
              "\n",
              "          const docLinkHtml = 'Like what you see? Visit the ' +\n",
              "            '<a target=\"_blank\" href=https://colab.research.google.com/notebooks/data_table.ipynb>data table notebook</a>'\n",
              "            + ' to learn more about interactive tables.';\n",
              "          element.innerHTML = '';\n",
              "          dataTable['output_type'] = 'display_data';\n",
              "          await google.colab.output.renderOutput(dataTable, element);\n",
              "          const docLink = document.createElement('div');\n",
              "          docLink.innerHTML = docLinkHtml;\n",
              "          element.appendChild(docLink);\n",
              "        }\n",
              "      </script>\n",
              "    </div>\n",
              "  </div>\n",
              "  "
            ]
          },
          "metadata": {},
          "execution_count": 73
        }
      ]
    },
    {
      "cell_type": "markdown",
      "source": [
        "Verificamos la cantidad de filas y columnas que tiene el mismo"
      ],
      "metadata": {
        "id": "q8dYlVes71L7"
      }
    },
    {
      "cell_type": "code",
      "source": [
        "df_test.shape"
      ],
      "metadata": {
        "colab": {
          "base_uri": "https://localhost:8080/"
        },
        "id": "n5ouPB4lxsXk",
        "outputId": "9ad85e4b-66ae-4db6-f83d-f821fac27f97"
      },
      "execution_count": 74,
      "outputs": [
        {
          "output_type": "execute_result",
          "data": {
            "text/plain": [
              "(4881, 15)"
            ]
          },
          "metadata": {},
          "execution_count": 74
        }
      ]
    },
    {
      "cell_type": "markdown",
      "source": [
        "Observamos que tiene menor cantidad de valores que el csv de train, pero la cantidad de columnas son iguales"
      ],
      "metadata": {
        "id": "2IXZmd-t75f4"
      }
    },
    {
      "cell_type": "markdown",
      "source": [
        "Verificamos que no tenga valores nulos"
      ],
      "metadata": {
        "id": "vAFnvjMy8CeY"
      }
    },
    {
      "cell_type": "code",
      "source": [
        "df_test.isnull().sum()"
      ],
      "metadata": {
        "colab": {
          "base_uri": "https://localhost:8080/"
        },
        "id": "KL_FZ1BPqsSt",
        "outputId": "e7ff5575-b943-486f-bd2a-ec4263cc0d23"
      },
      "execution_count": 75,
      "outputs": [
        {
          "output_type": "execute_result",
          "data": {
            "text/plain": [
              "index             0\n",
              "age               0\n",
              "workclass         0\n",
              "education         0\n",
              "education.num     0\n",
              "marital.status    0\n",
              "occupation        0\n",
              "relationship      0\n",
              "race              0\n",
              "sex               0\n",
              "capital.gain      0\n",
              "capital.loss      0\n",
              "hours.per.week    0\n",
              "native.country    0\n",
              "ID                0\n",
              "dtype: int64"
            ]
          },
          "metadata": {},
          "execution_count": 75
        }
      ]
    },
    {
      "cell_type": "markdown",
      "source": [
        "Observamos que hay varios valores en ? y como hicimos en el csv de train lo reemplazaremos por el valor 'Sin informacion'"
      ],
      "metadata": {
        "id": "kzVqsdzI8IKC"
      }
    },
    {
      "cell_type": "code",
      "source": [
        "df_test.replace('?','Sin informacion',inplace=True)"
      ],
      "metadata": {
        "id": "5x7hZBbMj_dG"
      },
      "execution_count": 76,
      "outputs": []
    },
    {
      "cell_type": "code",
      "source": [
        "ID = df_test['ID']"
      ],
      "metadata": {
        "id": "24y_75l8B3Tb"
      },
      "execution_count": 77,
      "outputs": []
    },
    {
      "cell_type": "code",
      "source": [
        "df_test.drop(['index','education','ID','native.country'], axis=1, inplace=True)"
      ],
      "metadata": {
        "id": "ZdxqgojrcuaD"
      },
      "execution_count": 78,
      "outputs": []
    },
    {
      "cell_type": "code",
      "source": [
        "df_test.shape"
      ],
      "metadata": {
        "colab": {
          "base_uri": "https://localhost:8080/"
        },
        "id": "FtUyZ5XCwx4Y",
        "outputId": "7121eb78-e789-4417-fe95-a30e75ff6aab"
      },
      "execution_count": 79,
      "outputs": [
        {
          "output_type": "execute_result",
          "data": {
            "text/plain": [
              "(4881, 11)"
            ]
          },
          "metadata": {},
          "execution_count": 79
        }
      ]
    },
    {
      "cell_type": "code",
      "source": [
        "X_train.shape"
      ],
      "metadata": {
        "colab": {
          "base_uri": "https://localhost:8080/"
        },
        "id": "o8fNMlmu9Bf2",
        "outputId": "e5b6c5c1-71ed-4601-c7fe-138dd8be726a"
      },
      "execution_count": 80,
      "outputs": [
        {
          "output_type": "execute_result",
          "data": {
            "text/plain": [
              "(22124, 11)"
            ]
          },
          "metadata": {},
          "execution_count": 80
        }
      ]
    },
    {
      "cell_type": "markdown",
      "source": [
        "## Entonces ahora que tenemos igualados el X_train y df_test en la misma cantidad de columnas. Podemos aplicar un metodo de clasificación para obtener los resultados."
      ],
      "metadata": {
        "id": "EHEctAo0-NiQ"
      }
    },
    {
      "cell_type": "markdown",
      "source": [
        "Entonces calculamos las prediciones del df_test"
      ],
      "metadata": {
        "id": "fTvBCFcn-tcW"
      }
    },
    {
      "cell_type": "code",
      "source": [
        "income_test = pipe.predict(df_test)"
      ],
      "metadata": {
        "id": "43G6iAsefF_i"
      },
      "execution_count": 81,
      "outputs": []
    },
    {
      "cell_type": "markdown",
      "source": [
        "Ahora agregamos  la columna de valores predecidos a df_test"
      ],
      "metadata": {
        "id": "02m6nkIP-2qM"
      }
    },
    {
      "cell_type": "markdown",
      "source": [
        "Y por ultimo filtramos las 2 columnas que hay que exportar en el CSV como resultado. 'ID' y 'PRED'"
      ],
      "metadata": {
        "id": "tuoyQzLX_ATs"
      }
    },
    {
      "cell_type": "code",
      "source": [
        "df_test['PRED'] = income_test"
      ],
      "metadata": {
        "id": "e2BWt1m_yTfL"
      },
      "execution_count": 82,
      "outputs": []
    },
    {
      "cell_type": "code",
      "source": [
        "df_test['ID'] = ID"
      ],
      "metadata": {
        "id": "8Hzzi0vFCAca"
      },
      "execution_count": 83,
      "outputs": []
    },
    {
      "cell_type": "code",
      "source": [
        "df_test[['ID','PRED']].sort_values('PRED', ascending=False)"
      ],
      "metadata": {
        "colab": {
          "base_uri": "https://localhost:8080/",
          "height": 423
        },
        "id": "YeeIhiem-6o6",
        "outputId": "bb1b68f8-7077-4d86-8c5b-e60fe080272d"
      },
      "execution_count": 84,
      "outputs": [
        {
          "output_type": "execute_result",
          "data": {
            "text/plain": [
              "         ID  PRED\n",
              "1340   6011     1\n",
              "1811    936     1\n",
              "4314  30563     1\n",
              "672   18212     1\n",
              "3068  24047     1\n",
              "...     ...   ...\n",
              "1779  11607     0\n",
              "1780  31563     0\n",
              "1781  29166     0\n",
              "1782  20532     0\n",
              "4880  25258     0\n",
              "\n",
              "[4881 rows x 2 columns]"
            ],
            "text/html": [
              "\n",
              "  <div id=\"df-12155ed9-246e-45df-a0d2-7b4d07f0d82e\">\n",
              "    <div class=\"colab-df-container\">\n",
              "      <div>\n",
              "<style scoped>\n",
              "    .dataframe tbody tr th:only-of-type {\n",
              "        vertical-align: middle;\n",
              "    }\n",
              "\n",
              "    .dataframe tbody tr th {\n",
              "        vertical-align: top;\n",
              "    }\n",
              "\n",
              "    .dataframe thead th {\n",
              "        text-align: right;\n",
              "    }\n",
              "</style>\n",
              "<table border=\"1\" class=\"dataframe\">\n",
              "  <thead>\n",
              "    <tr style=\"text-align: right;\">\n",
              "      <th></th>\n",
              "      <th>ID</th>\n",
              "      <th>PRED</th>\n",
              "    </tr>\n",
              "  </thead>\n",
              "  <tbody>\n",
              "    <tr>\n",
              "      <th>1340</th>\n",
              "      <td>6011</td>\n",
              "      <td>1</td>\n",
              "    </tr>\n",
              "    <tr>\n",
              "      <th>1811</th>\n",
              "      <td>936</td>\n",
              "      <td>1</td>\n",
              "    </tr>\n",
              "    <tr>\n",
              "      <th>4314</th>\n",
              "      <td>30563</td>\n",
              "      <td>1</td>\n",
              "    </tr>\n",
              "    <tr>\n",
              "      <th>672</th>\n",
              "      <td>18212</td>\n",
              "      <td>1</td>\n",
              "    </tr>\n",
              "    <tr>\n",
              "      <th>3068</th>\n",
              "      <td>24047</td>\n",
              "      <td>1</td>\n",
              "    </tr>\n",
              "    <tr>\n",
              "      <th>...</th>\n",
              "      <td>...</td>\n",
              "      <td>...</td>\n",
              "    </tr>\n",
              "    <tr>\n",
              "      <th>1779</th>\n",
              "      <td>11607</td>\n",
              "      <td>0</td>\n",
              "    </tr>\n",
              "    <tr>\n",
              "      <th>1780</th>\n",
              "      <td>31563</td>\n",
              "      <td>0</td>\n",
              "    </tr>\n",
              "    <tr>\n",
              "      <th>1781</th>\n",
              "      <td>29166</td>\n",
              "      <td>0</td>\n",
              "    </tr>\n",
              "    <tr>\n",
              "      <th>1782</th>\n",
              "      <td>20532</td>\n",
              "      <td>0</td>\n",
              "    </tr>\n",
              "    <tr>\n",
              "      <th>4880</th>\n",
              "      <td>25258</td>\n",
              "      <td>0</td>\n",
              "    </tr>\n",
              "  </tbody>\n",
              "</table>\n",
              "<p>4881 rows × 2 columns</p>\n",
              "</div>\n",
              "      <button class=\"colab-df-convert\" onclick=\"convertToInteractive('df-12155ed9-246e-45df-a0d2-7b4d07f0d82e')\"\n",
              "              title=\"Convert this dataframe to an interactive table.\"\n",
              "              style=\"display:none;\">\n",
              "        \n",
              "  <svg xmlns=\"http://www.w3.org/2000/svg\" height=\"24px\"viewBox=\"0 0 24 24\"\n",
              "       width=\"24px\">\n",
              "    <path d=\"M0 0h24v24H0V0z\" fill=\"none\"/>\n",
              "    <path d=\"M18.56 5.44l.94 2.06.94-2.06 2.06-.94-2.06-.94-.94-2.06-.94 2.06-2.06.94zm-11 1L8.5 8.5l.94-2.06 2.06-.94-2.06-.94L8.5 2.5l-.94 2.06-2.06.94zm10 10l.94 2.06.94-2.06 2.06-.94-2.06-.94-.94-2.06-.94 2.06-2.06.94z\"/><path d=\"M17.41 7.96l-1.37-1.37c-.4-.4-.92-.59-1.43-.59-.52 0-1.04.2-1.43.59L10.3 9.45l-7.72 7.72c-.78.78-.78 2.05 0 2.83L4 21.41c.39.39.9.59 1.41.59.51 0 1.02-.2 1.41-.59l7.78-7.78 2.81-2.81c.8-.78.8-2.07 0-2.86zM5.41 20L4 18.59l7.72-7.72 1.47 1.35L5.41 20z\"/>\n",
              "  </svg>\n",
              "      </button>\n",
              "      \n",
              "  <style>\n",
              "    .colab-df-container {\n",
              "      display:flex;\n",
              "      flex-wrap:wrap;\n",
              "      gap: 12px;\n",
              "    }\n",
              "\n",
              "    .colab-df-convert {\n",
              "      background-color: #E8F0FE;\n",
              "      border: none;\n",
              "      border-radius: 50%;\n",
              "      cursor: pointer;\n",
              "      display: none;\n",
              "      fill: #1967D2;\n",
              "      height: 32px;\n",
              "      padding: 0 0 0 0;\n",
              "      width: 32px;\n",
              "    }\n",
              "\n",
              "    .colab-df-convert:hover {\n",
              "      background-color: #E2EBFA;\n",
              "      box-shadow: 0px 1px 2px rgba(60, 64, 67, 0.3), 0px 1px 3px 1px rgba(60, 64, 67, 0.15);\n",
              "      fill: #174EA6;\n",
              "    }\n",
              "\n",
              "    [theme=dark] .colab-df-convert {\n",
              "      background-color: #3B4455;\n",
              "      fill: #D2E3FC;\n",
              "    }\n",
              "\n",
              "    [theme=dark] .colab-df-convert:hover {\n",
              "      background-color: #434B5C;\n",
              "      box-shadow: 0px 1px 3px 1px rgba(0, 0, 0, 0.15);\n",
              "      filter: drop-shadow(0px 1px 2px rgba(0, 0, 0, 0.3));\n",
              "      fill: #FFFFFF;\n",
              "    }\n",
              "  </style>\n",
              "\n",
              "      <script>\n",
              "        const buttonEl =\n",
              "          document.querySelector('#df-12155ed9-246e-45df-a0d2-7b4d07f0d82e button.colab-df-convert');\n",
              "        buttonEl.style.display =\n",
              "          google.colab.kernel.accessAllowed ? 'block' : 'none';\n",
              "\n",
              "        async function convertToInteractive(key) {\n",
              "          const element = document.querySelector('#df-12155ed9-246e-45df-a0d2-7b4d07f0d82e');\n",
              "          const dataTable =\n",
              "            await google.colab.kernel.invokeFunction('convertToInteractive',\n",
              "                                                     [key], {});\n",
              "          if (!dataTable) return;\n",
              "\n",
              "          const docLinkHtml = 'Like what you see? Visit the ' +\n",
              "            '<a target=\"_blank\" href=https://colab.research.google.com/notebooks/data_table.ipynb>data table notebook</a>'\n",
              "            + ' to learn more about interactive tables.';\n",
              "          element.innerHTML = '';\n",
              "          dataTable['output_type'] = 'display_data';\n",
              "          await google.colab.output.renderOutput(dataTable, element);\n",
              "          const docLink = document.createElement('div');\n",
              "          docLink.innerHTML = docLinkHtml;\n",
              "          element.appendChild(docLink);\n",
              "        }\n",
              "      </script>\n",
              "    </div>\n",
              "  </div>\n",
              "  "
            ]
          },
          "metadata": {},
          "execution_count": 84
        }
      ]
    },
    {
      "cell_type": "code",
      "source": [
        "df_test['PRED'].value_counts()"
      ],
      "metadata": {
        "colab": {
          "base_uri": "https://localhost:8080/"
        },
        "id": "L4zmYDjkaE5X",
        "outputId": "c3387b3e-eca4-41a4-a8d3-02fdf27b6198"
      },
      "execution_count": 85,
      "outputs": [
        {
          "output_type": "execute_result",
          "data": {
            "text/plain": [
              "0    4009\n",
              "1     872\n",
              "Name: PRED, dtype: int64"
            ]
          },
          "metadata": {},
          "execution_count": 85
        }
      ]
    },
    {
      "cell_type": "markdown",
      "source": [
        "Y por ultimo generamos el CSV con los valores PRED e ID, pero eliminando el valor de index generado por Pandas."
      ],
      "metadata": {
        "id": "Ld3oWufH_MKL"
      }
    },
    {
      "cell_type": "code",
      "source": [
        "df_test[['ID','PRED']].sort_values('PRED', ascending=False).to_csv('/content/drive/MyDrive/Curso Data Science - Icaro/Unidad 2/Entrega Sprint 1/pipe.csv', index=False,)"
      ],
      "metadata": {
        "id": "k5Vl4DsryxWe"
      },
      "execution_count": 86,
      "outputs": []
    },
    {
      "cell_type": "markdown",
      "source": [
        "#Vamos a aplicar GridSearch para obtener los mejores hiperparametros"
      ],
      "metadata": {
        "id": "L_rdkOmp05Vv"
      }
    },
    {
      "cell_type": "code",
      "source": [
        "from sklearn.model_selection import GridSearchCV"
      ],
      "metadata": {
        "id": "qySMiDbz0IBX"
      },
      "execution_count": 87,
      "outputs": []
    },
    {
      "cell_type": "code",
      "source": [
        "parameters = {\n",
        "    'model__max_depth': [3,5,8,12],\n",
        "    'model__min_samples_split': [1, 2, 3, 4, 5, 6],\n",
        "    'model__min_samples_leaf': [1,2,3,4]\n",
        "}"
      ],
      "metadata": {
        "id": "rr7z1dWl0JPh"
      },
      "execution_count": 88,
      "outputs": []
    },
    {
      "cell_type": "code",
      "source": [
        "gridsearch = GridSearchCV(pipe, parameters, n_jobs=-1)\n",
        "gridsearch.fit(X_train, y_train)"
      ],
      "metadata": {
        "colab": {
          "base_uri": "https://localhost:8080/"
        },
        "id": "Icw-U_250jmz",
        "outputId": "b7035659-533c-4650-8480-5126ca0afb75"
      },
      "execution_count": 89,
      "outputs": [
        {
          "output_type": "stream",
          "name": "stderr",
          "text": [
            "/usr/local/lib/python3.7/dist-packages/sklearn/model_selection/_validation.py:372: FitFailedWarning: \n",
            "80 fits failed out of a total of 480.\n",
            "The score on these train-test partitions for these parameters will be set to nan.\n",
            "If these failures are not expected, you can try to debug them by setting error_score='raise'.\n",
            "\n",
            "Below are more details about the failures:\n",
            "--------------------------------------------------------------------------------\n",
            "80 fits failed with the following error:\n",
            "Traceback (most recent call last):\n",
            "  File \"/usr/local/lib/python3.7/dist-packages/sklearn/model_selection/_validation.py\", line 680, in _fit_and_score\n",
            "    estimator.fit(X_train, y_train, **fit_params)\n",
            "  File \"/usr/local/lib/python3.7/dist-packages/sklearn/pipeline.py\", line 394, in fit\n",
            "    self._final_estimator.fit(Xt, y, **fit_params_last_step)\n",
            "  File \"/usr/local/lib/python3.7/dist-packages/sklearn/tree/_classes.py\", line 942, in fit\n",
            "    X_idx_sorted=X_idx_sorted,\n",
            "  File \"/usr/local/lib/python3.7/dist-packages/sklearn/tree/_classes.py\", line 254, in fit\n",
            "    % self.min_samples_split\n",
            "ValueError: min_samples_split must be an integer greater than 1 or a float in (0.0, 1.0]; got the integer 1\n",
            "\n",
            "  warnings.warn(some_fits_failed_message, FitFailedWarning)\n",
            "/usr/local/lib/python3.7/dist-packages/sklearn/model_selection/_search.py:972: UserWarning: One or more of the test scores are non-finite: [       nan 0.84184596 0.84184596 0.84184596 0.84184596 0.84184596\n",
            "        nan 0.84180075 0.84180075 0.84180075 0.84180075 0.84180075\n",
            "        nan 0.84175555 0.84175555 0.84175555 0.84175555 0.84175555\n",
            "        nan 0.84161996 0.84161996 0.84161996 0.84161996 0.84161996\n",
            "        nan 0.84835497 0.84835497 0.84835497 0.84835497 0.84835497\n",
            "        nan 0.84835497 0.84835497 0.84835497 0.84835497 0.84835497\n",
            "        nan 0.84821937 0.84821937 0.84821937 0.84821937 0.84821937\n",
            "        nan 0.84803858 0.84803858 0.84803858 0.84803858 0.84803858\n",
            "        nan 0.85377878 0.85364319 0.8539596  0.85405    0.85395959\n",
            "        nan 0.85418555 0.85418555 0.85418555 0.85409516 0.85382396\n",
            "        nan 0.85445677 0.85445677 0.85445677 0.85445677 0.85445677\n",
            "        nan 0.8545472  0.8545472  0.8545472  0.8545472  0.8545472\n",
            "        nan 0.84460346 0.84491984 0.84519107 0.84519105 0.84505548\n",
            "        nan 0.84654707 0.84654707 0.84654707 0.84627585 0.84600462\n",
            "        nan 0.84496497 0.84496497 0.84496497 0.84496497 0.84496497\n",
            "        nan 0.84641148 0.84641148 0.84641148 0.84641148 0.84641148]\n",
            "  category=UserWarning,\n"
          ]
        },
        {
          "output_type": "execute_result",
          "data": {
            "text/plain": [
              "GridSearchCV(estimator=Pipeline(steps=[('features',\n",
              "                                        FeatureUnion(transformer_list=[('numeric',\n",
              "                                                                        Pipeline(steps=[('selectcolumns',\n",
              "                                                                                         SelectColumns(names=Index(['age', 'education.num', 'capital.gain', 'capital.loss',\n",
              "       'hours.per.week'],\n",
              "      dtype='object'))),\n",
              "                                                                                        ('standardscaler',\n",
              "                                                                                         StandardScaler())])),\n",
              "                                                                       ('categorical',\n",
              "                                                                        Pipeline(steps=[('selectcolumns',\n",
              "                                                                                         SelectColumns(names=In...ss', 'marital.status', 'occupation', 'relationship', 'race',\n",
              "       'sex'],\n",
              "      dtype='object'))),\n",
              "                                                                                        ('onehotencoder',\n",
              "                                                                                         OneHotEncoder(handle_unknown='ignore',\n",
              "                                                                                                       sparse=False))]))])),\n",
              "                                       ('model',\n",
              "                                        DecisionTreeClassifier(max_depth=8,\n",
              "                                                               random_state=0))]),\n",
              "             n_jobs=-1,\n",
              "             param_grid={'model__max_depth': [3, 5, 8, 12],\n",
              "                         'model__min_samples_leaf': [1, 2, 3, 4],\n",
              "                         'model__min_samples_split': [1, 2, 3, 4, 5, 6]})"
            ]
          },
          "metadata": {},
          "execution_count": 89
        }
      ]
    },
    {
      "cell_type": "code",
      "source": [
        "gridsearch.best_params_"
      ],
      "metadata": {
        "colab": {
          "base_uri": "https://localhost:8080/"
        },
        "id": "5Z_NJRsx0oWC",
        "outputId": "ca731eeb-01eb-4f15-f91b-1fd5d41579b1"
      },
      "execution_count": 90,
      "outputs": [
        {
          "output_type": "execute_result",
          "data": {
            "text/plain": [
              "{'model__max_depth': 8,\n",
              " 'model__min_samples_leaf': 4,\n",
              " 'model__min_samples_split': 2}"
            ]
          },
          "metadata": {},
          "execution_count": 90
        }
      ]
    },
    {
      "cell_type": "code",
      "source": [
        "train_preds = gridsearch.predict(X_train)\n",
        "test_preds = gridsearch.predict(X_test)"
      ],
      "metadata": {
        "id": "NaQbPDHF0tTO"
      },
      "execution_count": 91,
      "outputs": []
    },
    {
      "cell_type": "code",
      "source": [
        "gridsearch.score(X_train, y_train)"
      ],
      "metadata": {
        "colab": {
          "base_uri": "https://localhost:8080/"
        },
        "id": "9SFCt-L90y6Y",
        "outputId": "ad31e2d0-a32f-48f7-c570-b2da33ea76da"
      },
      "execution_count": 92,
      "outputs": [
        {
          "output_type": "execute_result",
          "data": {
            "text/plain": [
              "0.8606490688844693"
            ]
          },
          "metadata": {},
          "execution_count": 92
        }
      ]
    },
    {
      "cell_type": "code",
      "source": [
        "gridsearch.score(X_test, y_test)"
      ],
      "metadata": {
        "colab": {
          "base_uri": "https://localhost:8080/"
        },
        "id": "lsPTFfbN0z1Z",
        "outputId": "8d71499a-0b93-4fc0-ce2a-d086e20656ac"
      },
      "execution_count": 93,
      "outputs": [
        {
          "output_type": "execute_result",
          "data": {
            "text/plain": [
              "0.8604483007953724"
            ]
          },
          "metadata": {},
          "execution_count": 93
        }
      ]
    },
    {
      "cell_type": "code",
      "source": [
        "from sklearn.metrics._plot.confusion_matrix import plot_confusion_matrix\n",
        "pipe.fit(X_train,y_train)\n",
        "\n",
        "plot_confusion_matrix(gridsearch,X_test, y_test, values_format='.2f')"
      ],
      "metadata": {
        "colab": {
          "base_uri": "https://localhost:8080/",
          "height": 354
        },
        "id": "gFsmMGGi2Vc9",
        "outputId": "a6f5606e-27ca-4a4a-b73b-0db0bc2c0e5e"
      },
      "execution_count": 94,
      "outputs": [
        {
          "output_type": "stream",
          "name": "stderr",
          "text": [
            "/usr/local/lib/python3.7/dist-packages/sklearn/utils/deprecation.py:87: FutureWarning: Function plot_confusion_matrix is deprecated; Function `plot_confusion_matrix` is deprecated in 1.0 and will be removed in 1.2. Use one of the class methods: ConfusionMatrixDisplay.from_predictions or ConfusionMatrixDisplay.from_estimator.\n",
            "  warnings.warn(msg, category=FutureWarning)\n"
          ]
        },
        {
          "output_type": "execute_result",
          "data": {
            "text/plain": [
              "<sklearn.metrics._plot.confusion_matrix.ConfusionMatrixDisplay at 0x7f0f208c8f10>"
            ]
          },
          "metadata": {},
          "execution_count": 94
        },
        {
          "output_type": "display_data",
          "data": {
            "text/plain": [
              "<Figure size 432x288 with 2 Axes>"
            ],
            "image/png": "[encoded data removed]"
          },
          "metadata": {}
        }
      ]
    },
    {
      "cell_type": "code",
      "source": [
        "from sklearn.metrics import classification_report\n",
        "print(classification_report(y_train, gridsearch.predict(X_train)))\n",
        "print(classification_report(y_test, gridsearch.predict(X_test)))"
      ],
      "metadata": {
        "colab": {
          "base_uri": "https://localhost:8080/"
        },
        "id": "go9tkN7l2g0F",
        "outputId": "0a7002a6-7c13-477e-e8b7-cb10b85efd6e"
      },
      "execution_count": 95,
      "outputs": [
        {
          "output_type": "stream",
          "name": "stdout",
          "text": [
            "              precision    recall  f1-score   support\n",
            "\n",
            "           0       0.88      0.94      0.91     16762\n",
            "           1       0.78      0.60      0.68      5362\n",
            "\n",
            "    accuracy                           0.86     22124\n",
            "   macro avg       0.83      0.77      0.79     22124\n",
            "weighted avg       0.85      0.86      0.85     22124\n",
            "\n",
            "              precision    recall  f1-score   support\n",
            "\n",
            "           0       0.88      0.95      0.91      4191\n",
            "           1       0.78      0.59      0.67      1341\n",
            "\n",
            "    accuracy                           0.86      5532\n",
            "   macro avg       0.83      0.77      0.79      5532\n",
            "weighted avg       0.85      0.86      0.85      5532\n",
            "\n"
          ]
        }
      ]
    },
    {
      "cell_type": "markdown",
      "source": [
        "##importamos nuevamente el CSV de test"
      ],
      "metadata": {
        "id": "HI_opL7L2v3v"
      }
    },
    {
      "cell_type": "code",
      "source": [
        "df_test = pd.read_csv('/content/drive/MyDrive/Curso Data Science - Icaro/Unidad 2/Entrega Sprint 1/test.csv')"
      ],
      "metadata": {
        "id": "j-B0eIZT2zHl"
      },
      "execution_count": 96,
      "outputs": []
    },
    {
      "cell_type": "code",
      "source": [
        "df_test.replace('?','Sin informacion',inplace=True)\n",
        "df_test.drop(['index','education'], axis=1, inplace=True)"
      ],
      "metadata": {
        "id": "fb2h0X5d2z1P"
      },
      "execution_count": 97,
      "outputs": []
    },
    {
      "cell_type": "code",
      "source": [
        "income_test = gridsearch.predict(df_test)"
      ],
      "metadata": {
        "id": "qGrC8Jfx3doT"
      },
      "execution_count": 98,
      "outputs": []
    },
    {
      "cell_type": "code",
      "source": [
        "df_test['PRED'] = income_test\n",
        "df_test[['ID','PRED']].sort_values('PRED', ascending=False)"
      ],
      "metadata": {
        "colab": {
          "base_uri": "https://localhost:8080/",
          "height": 423
        },
        "id": "cbB9RZXa3JIJ",
        "outputId": "6b47b11d-43ae-4a5b-d3c6-3c53c31670c6"
      },
      "execution_count": 99,
      "outputs": [
        {
          "output_type": "execute_result",
          "data": {
            "text/plain": [
              "         ID  PRED\n",
              "1340   6011     1\n",
              "3185  14757     1\n",
              "3191   3106     1\n",
              "905      96     1\n",
              "3187   2041     1\n",
              "...     ...   ...\n",
              "1779  11607     0\n",
              "1780  31563     0\n",
              "1781  29166     0\n",
              "1782  20532     0\n",
              "4880  25258     0\n",
              "\n",
              "[4881 rows x 2 columns]"
            ],
            "text/html": [
              "\n",
              "  <div id=\"df-e4e7be4a-0eb0-4795-a5d5-a0874e1026be\">\n",
              "    <div class=\"colab-df-container\">\n",
              "      <div>\n",
              "<style scoped>\n",
              "    .dataframe tbody tr th:only-of-type {\n",
              "        vertical-align: middle;\n",
              "    }\n",
              "\n",
              "    .dataframe tbody tr th {\n",
              "        vertical-align: top;\n",
              "    }\n",
              "\n",
              "    .dataframe thead th {\n",
              "        text-align: right;\n",
              "    }\n",
              "</style>\n",
              "<table border=\"1\" class=\"dataframe\">\n",
              "  <thead>\n",
              "    <tr style=\"text-align: right;\">\n",
              "      <th></th>\n",
              "      <th>ID</th>\n",
              "      <th>PRED</th>\n",
              "    </tr>\n",
              "  </thead>\n",
              "  <tbody>\n",
              "    <tr>\n",
              "      <th>1340</th>\n",
              "      <td>6011</td>\n",
              "      <td>1</td>\n",
              "    </tr>\n",
              "    <tr>\n",
              "      <th>3185</th>\n",
              "      <td>14757</td>\n",
              "      <td>1</td>\n",
              "    </tr>\n",
              "    <tr>\n",
              "      <th>3191</th>\n",
              "      <td>3106</td>\n",
              "      <td>1</td>\n",
              "    </tr>\n",
              "    <tr>\n",
              "      <th>905</th>\n",
              "      <td>96</td>\n",
              "      <td>1</td>\n",
              "    </tr>\n",
              "    <tr>\n",
              "      <th>3187</th>\n",
              "      <td>2041</td>\n",
              "      <td>1</td>\n",
              "    </tr>\n",
              "    <tr>\n",
              "      <th>...</th>\n",
              "      <td>...</td>\n",
              "      <td>...</td>\n",
              "    </tr>\n",
              "    <tr>\n",
              "      <th>1779</th>\n",
              "      <td>11607</td>\n",
              "      <td>0</td>\n",
              "    </tr>\n",
              "    <tr>\n",
              "      <th>1780</th>\n",
              "      <td>31563</td>\n",
              "      <td>0</td>\n",
              "    </tr>\n",
              "    <tr>\n",
              "      <th>1781</th>\n",
              "      <td>29166</td>\n",
              "      <td>0</td>\n",
              "    </tr>\n",
              "    <tr>\n",
              "      <th>1782</th>\n",
              "      <td>20532</td>\n",
              "      <td>0</td>\n",
              "    </tr>\n",
              "    <tr>\n",
              "      <th>4880</th>\n",
              "      <td>25258</td>\n",
              "      <td>0</td>\n",
              "    </tr>\n",
              "  </tbody>\n",
              "</table>\n",
              "<p>4881 rows × 2 columns</p>\n",
              "</div>\n",
              "      <button class=\"colab-df-convert\" onclick=\"convertToInteractive('df-e4e7be4a-0eb0-4795-a5d5-a0874e1026be')\"\n",
              "              title=\"Convert this dataframe to an interactive table.\"\n",
              "              style=\"display:none;\">\n",
              "        \n",
              "  <svg xmlns=\"http://www.w3.org/2000/svg\" height=\"24px\"viewBox=\"0 0 24 24\"\n",
              "       width=\"24px\">\n",
              "    <path d=\"M0 0h24v24H0V0z\" fill=\"none\"/>\n",
              "    <path d=\"M18.56 5.44l.94 2.06.94-2.06 2.06-.94-2.06-.94-.94-2.06-.94 2.06-2.06.94zm-11 1L8.5 8.5l.94-2.06 2.06-.94-2.06-.94L8.5 2.5l-.94 2.06-2.06.94zm10 10l.94 2.06.94-2.06 2.06-.94-2.06-.94-.94-2.06-.94 2.06-2.06.94z\"/><path d=\"M17.41 7.96l-1.37-1.37c-.4-.4-.92-.59-1.43-.59-.52 0-1.04.2-1.43.59L10.3 9.45l-7.72 7.72c-.78.78-.78 2.05 0 2.83L4 21.41c.39.39.9.59 1.41.59.51 0 1.02-.2 1.41-.59l7.78-7.78 2.81-2.81c.8-.78.8-2.07 0-2.86zM5.41 20L4 18.59l7.72-7.72 1.47 1.35L5.41 20z\"/>\n",
              "  </svg>\n",
              "      </button>\n",
              "      \n",
              "  <style>\n",
              "    .colab-df-container {\n",
              "      display:flex;\n",
              "      flex-wrap:wrap;\n",
              "      gap: 12px;\n",
              "    }\n",
              "\n",
              "    .colab-df-convert {\n",
              "      background-color: #E8F0FE;\n",
              "      border: none;\n",
              "      border-radius: 50%;\n",
              "      cursor: pointer;\n",
              "      display: none;\n",
              "      fill: #1967D2;\n",
              "      height: 32px;\n",
              "      padding: 0 0 0 0;\n",
              "      width: 32px;\n",
              "    }\n",
              "\n",
              "    .colab-df-convert:hover {\n",
              "      background-color: #E2EBFA;\n",
              "      box-shadow: 0px 1px 2px rgba(60, 64, 67, 0.3), 0px 1px 3px 1px rgba(60, 64, 67, 0.15);\n",
              "      fill: #174EA6;\n",
              "    }\n",
              "\n",
              "    [theme=dark] .colab-df-convert {\n",
              "      background-color: #3B4455;\n",
              "      fill: #D2E3FC;\n",
              "    }\n",
              "\n",
              "    [theme=dark] .colab-df-convert:hover {\n",
              "      background-color: #434B5C;\n",
              "      box-shadow: 0px 1px 3px 1px rgba(0, 0, 0, 0.15);\n",
              "      filter: drop-shadow(0px 1px 2px rgba(0, 0, 0, 0.3));\n",
              "      fill: #FFFFFF;\n",
              "    }\n",
              "  </style>\n",
              "\n",
              "      <script>\n",
              "        const buttonEl =\n",
              "          document.querySelector('#df-e4e7be4a-0eb0-4795-a5d5-a0874e1026be button.colab-df-convert');\n",
              "        buttonEl.style.display =\n",
              "          google.colab.kernel.accessAllowed ? 'block' : 'none';\n",
              "\n",
              "        async function convertToInteractive(key) {\n",
              "          const element = document.querySelector('#df-e4e7be4a-0eb0-4795-a5d5-a0874e1026be');\n",
              "          const dataTable =\n",
              "            await google.colab.kernel.invokeFunction('convertToInteractive',\n",
              "                                                     [key], {});\n",
              "          if (!dataTable) return;\n",
              "\n",
              "          const docLinkHtml = 'Like what you see? Visit the ' +\n",
              "            '<a target=\"_blank\" href=https://colab.research.google.com/notebooks/data_table.ipynb>data table notebook</a>'\n",
              "            + ' to learn more about interactive tables.';\n",
              "          element.innerHTML = '';\n",
              "          dataTable['output_type'] = 'display_data';\n",
              "          await google.colab.output.renderOutput(dataTable, element);\n",
              "          const docLink = document.createElement('div');\n",
              "          docLink.innerHTML = docLinkHtml;\n",
              "          element.appendChild(docLink);\n",
              "        }\n",
              "      </script>\n",
              "    </div>\n",
              "  </div>\n",
              "  "
            ]
          },
          "metadata": {},
          "execution_count": 99
        }
      ]
    },
    {
      "cell_type": "code",
      "source": [
        "df_test['PRED'].value_counts()"
      ],
      "metadata": {
        "colab": {
          "base_uri": "https://localhost:8080/"
        },
        "id": "OBjAVhGE3Naz",
        "outputId": "87b7c974-f4d1-4e3c-ec04-9aac2c46d34b"
      },
      "execution_count": 100,
      "outputs": [
        {
          "output_type": "execute_result",
          "data": {
            "text/plain": [
              "0    4009\n",
              "1     872\n",
              "Name: PRED, dtype: int64"
            ]
          },
          "metadata": {},
          "execution_count": 100
        }
      ]
    },
    {
      "cell_type": "code",
      "source": [
        "df_test[['ID','PRED']].sort_values('PRED', ascending=False).to_csv('/content/drive/MyDrive/Curso Data Science - Icaro/Unidad 2/Entrega Sprint 1/resultado_final_gridsearchV4.csv', index=False,)"
      ],
      "metadata": {
        "id": "uHkowjpm3SSF"
      },
      "execution_count": 101,
      "outputs": []
    }
  ]
}